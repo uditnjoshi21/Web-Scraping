{
 "cells": [
  {
   "cell_type": "markdown",
   "metadata": {
    "id": "N6Yirgh_ZmdR"
   },
   "source": [
    "# Getting Data \n",
    "\n",
    "The topics of week 5 is getting data with web scraping. \n",
    "\n",
    "In this lab notebook you will gain experience reading and writing data of various forms. "
   ]
  },
  {
   "cell_type": "code",
   "execution_count": 2,
   "metadata": {
    "id": "YVdDTDldbUrG"
   },
   "outputs": [],
   "source": [
    "from bs4 import BeautifulSoup\n",
    "import requests \n",
    "import pandas as pd\n",
    "import re"
   ]
  },
  {
   "cell_type": "markdown",
   "metadata": {
    "id": "gs41KLtpZ1tR"
   },
   "source": [
    "### Exercise 1 \n",
    "\n",
    "Identify the name of the most recently added data sets on https://www.data.gov \n",
    "\n",
    "You may want to use the url = \"https://catalog.data.gov/dataset?q=&sort=metadata_created+desc\""
   ]
  },
  {
   "cell_type": "code",
   "execution_count": 3,
   "metadata": {},
   "outputs": [
    {
     "name": "stdout",
     "output_type": "stream",
     "text": [
      "\n",
      "Name of the most recently added data sets on https://www.data.gov :-\n",
      "  Data from: Topical application of synthetic hormones terminated reproductive diapause to facilitate rearing of a univoltine weevil for weed biological control agent\n"
     ]
    }
   ],
   "source": [
    "url = \"http://catalog.data.gov/dataset?q=&sort=metadata_created+desc\"\n",
    "soup = BeautifulSoup(requests.get(url).text,'html5lib')\n",
    "\n",
    "h3= soup.find('h3')                               #<h3 class=\"dataset-heading\">\n",
    "#h3= soup('h3', class_='dataset-heading')\n",
    "#print(h3)\n",
    "ds=h3.find('a').text\n",
    "print(\"\\nName of the most recently added data sets on https://www.data.gov :-\\n \", ds)"
   ]
  },
  {
   "cell_type": "markdown",
   "metadata": {
    "id": "AM4-gV6JbZUi"
   },
   "source": [
    "### Exercise 2 \n",
    "\n",
    "Total number of clinical trials recorded at the National Institutes of Health, https://clinicaltrials.gov"
   ]
  },
  {
   "cell_type": "code",
   "execution_count": 4,
   "metadata": {
    "id": "L2Nd4fZYbc5Q"
   },
   "outputs": [
    {
     "name": "stdout",
     "output_type": "stream",
     "text": [
      "Total number of clinical trials recorded at the National Institutes of Health, https://clinicaltrials.gov :- 391,404\n"
     ]
    }
   ],
   "source": [
    "url = \"https://clinicaltrials.gov/ct2/home\"\n",
    "soup = BeautifulSoup(requests.get(url).text,'html5lib')\n",
    "\n",
    "h2= soup.find('h2').text\n",
    "no=h2.split()[1]\n",
    "\n",
    "print(\"Total number of clinical trials recorded at the National Institutes of Health, https://clinicaltrials.gov :-\",no)"
   ]
  },
  {
   "cell_type": "markdown",
   "metadata": {
    "id": "hLv57yD-bsCI"
   },
   "source": [
    "### Exercise 3 \n",
    "\n",
    "Give the number of travel advisories, by level, for international travel given by the US government. Data available at: https://travel.state.gov/content/passports/en/alertswarnings.html"
   ]
  },
  {
   "cell_type": "code",
   "execution_count": 5,
   "metadata": {
    "id": "Z-VKIhm5bp0d"
   },
   "outputs": [
    {
     "name": "stdout",
     "output_type": "stream",
     "text": [
      "Total number of travel advisories, by level:- 4\n"
     ]
    }
   ],
   "source": [
    "url = \"https://travel.state.gov/content/travel/en/international-travel/before-you-go/about-our-new-products.html\"\n",
    "soup = BeautifulSoup(requests.get(url).text,'html5lib')\n",
    "\n",
    "div= soup('div', 'set_1 tsg-rwd-accordion-copy')\n",
    "#print(div)\n",
    "for x in div:\n",
    "    level=x.find('h3').text.split()[1][-1]\n",
    "    print(\"Total number of travel advisories, by level:-\",level) \n",
    "    break"
   ]
  },
  {
   "cell_type": "markdown",
   "metadata": {
    "id": "xKqvx5j7b7Pt"
   },
   "source": [
    "**Version 1** - Write one solution using pandas `read_html`"
   ]
  },
  {
   "cell_type": "code",
   "execution_count": 7,
   "metadata": {
    "scrolled": true
   },
   "outputs": [
    {
     "name": "stdout",
     "output_type": "stream",
     "text": [
      "Number of travel Level 1 warnings :  4\n",
      "Number of travel Level 2 warnings :  15\n",
      "Number of travel Level 3 warnings :  90\n",
      "Number of travel Level 4 warnings :  103\n"
     ]
    }
   ],
   "source": [
    "df2 = pd.read_html('https://travel.state.gov/content/travel/en/traveladvisories/traveladvisories.html/')[0]\n",
    "levels=df2.groupby('Level')\n",
    "\n",
    "print (\"Number of travel Level 1 warnings : \",levels.get_group('Level 1: Exercise Normal Precautions').count()[1]) \n",
    "print (\"Number of travel Level 2 warnings : \",levels.get_group('Level 2: Exercise Increased Caution').count()[1])\n",
    "print (\"Number of travel Level 3 warnings : \",levels.get_group('Level 3: Reconsider Travel').count()[1])\n",
    "print (\"Number of travel Level 4 warnings : \",levels.get_group('Level 4: Do Not Travel').count()[1])"
   ]
  },
  {
   "cell_type": "code",
   "execution_count": 8,
   "metadata": {},
   "outputs": [
    {
     "name": "stdout",
     "output_type": "stream",
     "text": [
      "There is one another level also, i.e- 'Caution'\n",
      "Number of travel with Caution warnings : 1\n"
     ]
    }
   ],
   "source": [
    "df2 = pd.read_html('https://travel.state.gov/content/travel/en/traveladvisories/traveladvisories.html/')[0]\n",
    "levels=df2.groupby('Level')\n",
    "\n",
    "#print(df2.count()[1])\n",
    "print(\"There is one another level also, i.e- 'Caution'\")\n",
    "print(\"Number of travel with Caution warnings :\",levels.get_group('Caution').count()[1])"
   ]
  },
  {
   "cell_type": "markdown",
   "metadata": {
    "id": "L-77DMh1b3Iq"
   },
   "source": [
    "**Version 2** - Write another solution just using beautiful soup and other Python functions. "
   ]
  },
  {
   "cell_type": "code",
   "execution_count": 9,
   "metadata": {},
   "outputs": [
    {
     "name": "stdout",
     "output_type": "stream",
     "text": [
      "Number of travel Level 1 warnings :  4\n",
      "Number of travel Level 2 warnings :  15\n",
      "Number of travel Level 3 warnings :  90\n",
      "Number of travel Level 4 warnings :  103\n"
     ]
    }
   ],
   "source": [
    "url = \"https://travel.state.gov/content/travel/en/traveladvisories/traveladvisories.html/\"\n",
    "soup = BeautifulSoup(requests.get(url).text,'html5lib')\n",
    "\n",
    "table_data = soup.find(\"div\",\"table-data data-date\").table.tbody.find_all(\"tr\")\n",
    "#print(table_data)\n",
    "#Taking the different kind of levels from the table\n",
    "levels,counts=[],{}\n",
    "for i in table_data:\n",
    "    td=[td.text for td in i.find_all('td')]\n",
    "    if len(td)==3:\n",
    "        levels.append(td[1])\n",
    "#Now counting the levels\n",
    "\n",
    "for level in levels:\n",
    "    counts[level]=counts.get(level,0)+1\n",
    "\n",
    "print(\"Number of travel Level 1 warnings : \",counts['Level 1: Exercise Normal Precautions'])\n",
    "print(\"Number of travel Level 2 warnings : \",counts['Level 2: Exercise Increased Caution'])\n",
    "print(\"Number of travel Level 3 warnings : \",counts['Level 3: Reconsider Travel'])\n",
    "print(\"Number of travel Level 4 warnings : \",counts['Level 4: Do Not Travel'])        "
   ]
  },
  {
   "cell_type": "code",
   "execution_count": 170,
   "metadata": {},
   "outputs": [
    {
     "name": "stdout",
     "output_type": "stream",
     "text": [
      "['Advisory', 'Level', 'Date Updated']\n"
     ]
    }
   ],
   "source": [
    "# Trying some other way\n",
    "url = \"https://travel.state.gov/content/travel/en/traveladvisories/traveladvisories.html/\"\n",
    "soup = BeautifulSoup(requests.get(url).text,'html5lib')\n",
    "\n",
    "table_data = soup.find(\"div\",\"table-data data-date\").table.tbody.find_all(\"tr\")\n",
    "#print(table_data)\n",
    "\n",
    "# Get all the Column names in the List form\n",
    "headings = [th.text  for th in table_data[0].find_all(\"th\")]\n",
    "print(headings)\n",
    "\n",
    "# Get all the rows of table\n",
    "table_data = []\n",
    "\n",
    "for j in table_data[0].find_all('tr')[1:]:\n",
    "        row_data = j.find_all('td')\n",
    "        row = [tr.text for tr in row_data]\n",
    "        length = len(df)\n",
    "        df.loc[length] = row\n",
    "        \n",
    "for td, th in zip(table_data[0].find_all(\"td\")[1:], heading): \n",
    "    t_row[th] = td.text.replace('\\n', '').strip()\n",
    "    table_data.append(t_row)\n",
    "\n",
    "    # Put the data for the table with his heading.\n",
    "data[heading] = table_data\n",
    "\n"
   ]
  },
  {
   "cell_type": "markdown",
   "metadata": {
    "id": "ISRqO9H4lyqc"
   },
   "source": [
    "### Exercise 4 \n",
    "\n",
    "The number of workplace fatalities as reported to the federal and state OSHA at https://www.osha.gov/fatalities. "
   ]
  },
  {
   "cell_type": "code",
   "execution_count": 8,
   "metadata": {
    "id": "m9ZUfFF9m9YY"
   },
   "outputs": [
    {
     "name": "stdout",
     "output_type": "stream",
     "text": [
      "The total number of workplace fatalities as reported to the federal and state OSHA at https://www.osha.gov/fatalities :-\n",
      " 4598\n",
      "\n",
      "The number of workplace fatalities as reported during COVID-19 to the federal and state OSHA at https://www.osha.gov/fatalities/covid-19 :-\n",
      " 1681\n"
     ]
    }
   ],
   "source": [
    "df = pd.read_html('https://www.osha.gov/fatalities')[0]\n",
    "no=df['Inspection Number'].count()\n",
    "print(\"The total number of workplace fatalities as reported to the federal and state OSHA at https://www.osha.gov/fatalities :-\\n\", no)\n",
    "\n",
    "\n",
    "df1 = pd.read_html('https://www.osha.gov/fatalities/covid-19')[0]\n",
    "num=df1['Inspection Number'].count()\n",
    "print(\"\\nThe number of workplace fatalities as reported during COVID-19 to the federal and state OSHA at https://www.osha.gov/fatalities/covid-19 :-\\n\", num)"
   ]
  },
  {
   "cell_type": "markdown",
   "metadata": {
    "id": "lEsX--xfnJzx"
   },
   "source": [
    "\n",
    "#### Exercise 4B \n",
    "\n",
    "Count only those in fiscal year 2020, Oct. 1, 2019 - Sept. 30, 2020.  Try using `pd.to_datetime` to change the Date of Incident column to a datetime object that may be easier to filter. "
   ]
  },
  {
   "cell_type": "code",
   "execution_count": 9,
   "metadata": {},
   "outputs": [
    {
     "name": "stdout",
     "output_type": "stream",
     "text": [
      "No of fatalities reported in fiscal year 2020, Oct. 1, 2019 - Sept. 30, 2020 at https://www.osha.gov/fatalities/covid-19 :-\n",
      " 870\n"
     ]
    }
   ],
   "source": [
    "df = pd.read_html('https://www.osha.gov/fatalities')[0]\n",
    "df['date'] = pd.to_datetime(df['Date of Incident'])\n",
    "#Oct. 1, 2019 - Sept. 30, 2020\n",
    "df_filter= df.loc[(df['date'] >= '2019-10-01') & (df['date'] <= '2020-09-30')]\n",
    "count=df_filter['Inspection Number'].count()\n",
    "\n",
    "print(\"No of fatalities reported in fiscal year 2020, Oct. 1, 2019 - Sept. 30, 2020 at https://www.osha.gov/fatalities/covid-19 :-\\n\", count)"
   ]
  },
  {
   "cell_type": "markdown",
   "metadata": {
    "id": "WWMZaRxTz5Gl"
   },
   "source": [
    "### Exercise 5 \n",
    "\n",
    "Identify the most viewed data set on New York state's open data portal as of this month.   \n",
    "https://data.ny.gov/browse?sortBy=most_accessed&sortPeriod=month"
   ]
  },
  {
   "cell_type": "code",
   "execution_count": 12,
   "metadata": {
    "id": "1MxJGcMGwNe_"
   },
   "outputs": [
    {
     "name": "stdout",
     "output_type": "stream",
     "text": [
      "The most viewed data set on New York state's open data portal as of this month.:-\n",
      " Lottery Cash 4 Life Winning Numbers: Beginning 2014\n"
     ]
    }
   ],
   "source": [
    "url = \"https://data.ny.gov/browse?sortBy=most_accessed&sortPeriod=month\"\n",
    "soup = BeautifulSoup(requests.get(url).text,'html5lib')\n",
    "                            \n",
    "view= soup('h2', 'browse2-result-name')\n",
    "#print(view)\n",
    "\n",
    "for x in view:\n",
    "    vw=x.find('a').text\n",
    "    print(\"The most viewed data set on New York state's open data portal as of this month.:-\\n\",vw) \n",
    "    break"
   ]
  },
  {
   "cell_type": "markdown",
   "metadata": {
    "id": "35E-8DlM24VD"
   },
   "source": [
    "### Bonus Exercise \n",
    "\n",
    "Count the number of FOIA requests made to the Chicago Public Library.  \n",
    "\n",
    "For this exercise you will need to integrate requests with the `csv` module we saw last week. \n"
   ]
  },
  {
   "cell_type": "code",
   "execution_count": 35,
   "metadata": {
    "id": "tlq62QmA2Hp7"
   },
   "outputs": [
    {
     "name": "stdout",
     "output_type": "stream",
     "text": [
      "While searching by tag, we aren't able to find data.\n",
      "There is another way, we can direct use the link of the table data, which is provided in the website in CSV format.\n",
      "\n",
      "\n",
      "The number of FOIA requests made to the Chicago Public Library:  119\n"
     ]
    }
   ],
   "source": [
    "import csv \n",
    "url = \"https://data.cityofchicago.org/FOIA/FOIA-Request-Log-Chicago-Public-Library/n379-5uzu\"\n",
    "soup = BeautifulSoup(requests.get(url).text,'html5lib')\n",
    "\n",
    "#<ul class=\"featured-download-links\"> \n",
    "#<div class=\"metadata-pair\">\n",
    "ul= soup('ul','featured-download-links')\n",
    "div=soup.find(\"div\",\"metadata-pair-value\")\n",
    "#print(ul, div)\n",
    "\n",
    "print(\"While searching by tag, we aren't able to find data.\")\n",
    "print(\"There is another way, we can direct use the link of the table data, which is provided in the website in CSV format.\\n\\n\")\n",
    "\n",
    "df = pd.read_csv('https://data.cityofchicago.org/api/views/n379-5uzu/rows.csv?accessType=DOWNLOAD')\n",
    "print(\"The number of FOIA requests made to the Chicago Public Library: \",df.shape[0])"
   ]
  },
  {
   "cell_type": "code",
   "execution_count": 36,
   "metadata": {
    "scrolled": true
   },
   "outputs": [
    {
     "data": {
      "text/html": [
       "<div>\n",
       "<style scoped>\n",
       "    .dataframe tbody tr th:only-of-type {\n",
       "        vertical-align: middle;\n",
       "    }\n",
       "\n",
       "    .dataframe tbody tr th {\n",
       "        vertical-align: top;\n",
       "    }\n",
       "\n",
       "    .dataframe thead th {\n",
       "        text-align: right;\n",
       "    }\n",
       "</style>\n",
       "<table border=\"1\" class=\"dataframe\">\n",
       "  <thead>\n",
       "    <tr style=\"text-align: right;\">\n",
       "      <th></th>\n",
       "      <th>REQUESTOR NAME</th>\n",
       "      <th>ORGANIZATION</th>\n",
       "      <th>DESCRIPTION OF REQUEST</th>\n",
       "      <th>DATE RECEIVED</th>\n",
       "      <th>DUE DATE</th>\n",
       "    </tr>\n",
       "  </thead>\n",
       "  <tbody>\n",
       "    <tr>\n",
       "      <th>0</th>\n",
       "      <td>Joe Peterangelo</td>\n",
       "      <td>Metro Chicago Information Center</td>\n",
       "      <td>information on all the arts programs offered b...</td>\n",
       "      <td>06/24/2010</td>\n",
       "      <td>06/30/2010</td>\n",
       "    </tr>\n",
       "    <tr>\n",
       "      <th>1</th>\n",
       "      <td>Lindsay Allen Clifton</td>\n",
       "      <td>IL ADC#1 MCAGC Labor Management Cooperation Co...</td>\n",
       "      <td>certified payroll submitted by all mason contr...</td>\n",
       "      <td>08/16/2010</td>\n",
       "      <td>08/22/2010</td>\n",
       "    </tr>\n",
       "    <tr>\n",
       "      <th>2</th>\n",
       "      <td>Kevin B. Sander</td>\n",
       "      <td>Canon Business Solutions</td>\n",
       "      <td>information related to the award of the contra...</td>\n",
       "      <td>08/20/2010</td>\n",
       "      <td>08/26/2010</td>\n",
       "    </tr>\n",
       "    <tr>\n",
       "      <th>3</th>\n",
       "      <td>Lindsay Allen Clifton</td>\n",
       "      <td>IL ADC#1 MCAGC Labor Management Cooperation Co...</td>\n",
       "      <td>certified payroll submitted by all mason contr...</td>\n",
       "      <td>09/15/2010</td>\n",
       "      <td>09/21/2010</td>\n",
       "    </tr>\n",
       "    <tr>\n",
       "      <th>4</th>\n",
       "      <td>Alison M Rudman</td>\n",
       "      <td>SEIU Local 1</td>\n",
       "      <td>copy of a list of all offices or other buildin...</td>\n",
       "      <td>09/22/2010</td>\n",
       "      <td>09/28/2010</td>\n",
       "    </tr>\n",
       "  </tbody>\n",
       "</table>\n",
       "</div>"
      ],
      "text/plain": [
       "          REQUESTOR NAME                                       ORGANIZATION  \\\n",
       "0        Joe Peterangelo                   Metro Chicago Information Center   \n",
       "1  Lindsay Allen Clifton  IL ADC#1 MCAGC Labor Management Cooperation Co...   \n",
       "2        Kevin B. Sander                           Canon Business Solutions   \n",
       "3  Lindsay Allen Clifton  IL ADC#1 MCAGC Labor Management Cooperation Co...   \n",
       "4        Alison M Rudman                                       SEIU Local 1   \n",
       "\n",
       "                              DESCRIPTION OF REQUEST DATE RECEIVED    DUE DATE  \n",
       "0  information on all the arts programs offered b...    06/24/2010  06/30/2010  \n",
       "1  certified payroll submitted by all mason contr...    08/16/2010  08/22/2010  \n",
       "2  information related to the award of the contra...    08/20/2010  08/26/2010  \n",
       "3  certified payroll submitted by all mason contr...    09/15/2010  09/21/2010  \n",
       "4  copy of a list of all offices or other buildin...    09/22/2010  09/28/2010  "
      ]
     },
     "execution_count": 36,
     "metadata": {},
     "output_type": "execute_result"
    }
   ],
   "source": [
    "df.head()"
   ]
  }
 ],
 "metadata": {
  "colab": {
   "collapsed_sections": [],
   "name": "lab5_week5.ipynb",
   "provenance": [],
   "toc_visible": true
  },
  "kernelspec": {
   "display_name": "Python 3",
   "language": "python",
   "name": "python3"
  },
  "language_info": {
   "codemirror_mode": {
    "name": "ipython",
    "version": 3
   },
   "file_extension": ".py",
   "mimetype": "text/x-python",
   "name": "python",
   "nbconvert_exporter": "python",
   "pygments_lexer": "ipython3",
   "version": "3.8.5"
  },
  "latex_envs": {
   "LaTeX_envs_menu_present": true,
   "autoclose": false,
   "autocomplete": true,
   "bibliofile": "biblio.bib",
   "cite_by": "apalike",
   "current_citInitial": 1,
   "eqLabelWithNumbers": true,
   "eqNumInitial": 1,
   "hotkeys": {
    "equation": "Ctrl-E",
    "itemize": "Ctrl-I"
   },
   "labels_anchors": false,
   "latex_user_defs": false,
   "report_style_numbering": false,
   "user_envs_cfg": false
  },
  "toc": {
   "base_numbering": 1,
   "nav_menu": {},
   "number_sections": true,
   "sideBar": true,
   "skip_h1_title": false,
   "title_cell": "Table of Contents",
   "title_sidebar": "Contents",
   "toc_cell": false,
   "toc_position": {
    "height": "calc(100% - 180px)",
    "left": "10px",
    "top": "150px",
    "width": "165px"
   },
   "toc_section_display": true,
   "toc_window_display": true
  }
 },
 "nbformat": 4,
 "nbformat_minor": 1
}
