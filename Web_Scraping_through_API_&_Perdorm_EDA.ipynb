{
 "cells": [
  {
   "cell_type": "markdown",
   "metadata": {
    "id": "7qjFdnLMf3v7"
   },
   "source": [
    "# Getting Data\n",
    "The topics of week 6 continues to be getting data, in this case using an API to access structured data. \n",
    "\n",
    "In this lab notebook you will gain experience reading data from and posting to an API. \n"
   ]
  },
  {
   "cell_type": "code",
   "execution_count": 1,
   "metadata": {
    "id": "sjePHfG9fvnl"
   },
   "outputs": [],
   "source": [
    "import requests\n",
    "import json\n",
    "import datetime\n",
    "import pandas as pd\n",
    "import numpy as np\n",
    "import matplotlib.pyplot as plt\n",
    "import matplotlib as mpl \n",
    "%matplotlib inline  "
   ]
  },
  {
   "cell_type": "markdown",
   "metadata": {
    "id": "1yS4L1Dkf9pz"
   },
   "source": [
    "## API Getting Data\n",
    "\n",
    "So far we have seen examples of getting data from an API.  These examples make use of GET requests from the API/server. \n",
    "\n",
    "Making a HTTP GET request can be done using several python libraries including: \n",
    "\n",
    "* httplib \n",
    "* urllib \n",
    "* requests \n",
    "\n",
    "We have been using the `requests` module.\n",
    "\n",
    "Let's look at another example."
   ]
  },
  {
   "cell_type": "markdown",
   "metadata": {
    "id": "4RGqPnaJgAcz"
   },
   "source": [
    "## Example: Google Books\n",
    "\n",
    "Here we will examine using the Google Books API:  \n",
    "https://developers.google.com/books/docs/overview"
   ]
  },
  {
   "cell_type": "code",
   "execution_count": 2,
   "metadata": {
    "id": "_1bq28Rff87z"
   },
   "outputs": [],
   "source": [
    "# api-endpoint \n",
    "url = \"https://www.googleapis.com/books/v1/volumes\"\n",
    "  \n",
    "isbn = \"isbn:0553386794\"\n",
    "\n",
    "# set the parameters to be sent to the API\n",
    "params = {'q': isbn}\n",
    "\n",
    "resp = requests.get(url, params)"
   ]
  },
  {
   "cell_type": "markdown",
   "metadata": {
    "id": "wbsJt2AJhENL"
   },
   "source": [
    "Look at what the response is? \n",
    "\n",
    "How do we then extract the data?"
   ]
  },
  {
   "cell_type": "code",
   "execution_count": 3,
   "metadata": {
    "id": "k3COrBT2hC63"
   },
   "outputs": [
    {
     "data": {
      "text/plain": [
       "<Response [200]>"
      ]
     },
     "execution_count": 3,
     "metadata": {},
     "output_type": "execute_result"
    }
   ],
   "source": [
    "resp"
   ]
  },
  {
   "cell_type": "code",
   "execution_count": 4,
   "metadata": {
    "collapsed": true,
    "id": "-NlgTV8GhITl"
   },
   "outputs": [
    {
     "data": {
      "text/plain": [
       "{'kind': 'books#volumes',\n",
       " 'totalItems': 2,\n",
       " 'items': [{'kind': 'books#volume',\n",
       "   'id': 'CKhFzQEACAAJ',\n",
       "   'etag': 'O/IsRJ1iwwQ',\n",
       "   'selfLink': 'https://www.googleapis.com/books/v1/volumes/CKhFzQEACAAJ',\n",
       "   'volumeInfo': {'title': 'A Song of Ice and Fire',\n",
       "    'authors': ['George R. R. Martin'],\n",
       "    'publishedDate': '2011',\n",
       "    'description': 'The uneasy peace that exists following the death of Robb Stark is threatened by new plots, intrigues, and alliances that once again will plunge the Seven Kingdoms back into all-out war for control of the Iron Throne.',\n",
       "    'industryIdentifiers': [{'type': 'ISBN_10', 'identifier': '0553386794'},\n",
       "     {'type': 'ISBN_13', 'identifier': '9780553386790'}],\n",
       "    'readingModes': {'text': False, 'image': False},\n",
       "    'printType': 'BOOK',\n",
       "    'averageRating': 4,\n",
       "    'ratingsCount': 18,\n",
       "    'maturityRating': 'NOT_MATURE',\n",
       "    'allowAnonLogging': False,\n",
       "    'contentVersion': 'preview-1.0.0',\n",
       "    'panelizationSummary': {'containsEpubBubbles': False,\n",
       "     'containsImageBubbles': False},\n",
       "    'language': 'en',\n",
       "    'previewLink': 'http://books.google.com/books?id=CKhFzQEACAAJ&dq=isbn:0553386794&hl=&cd=1&source=gbs_api',\n",
       "    'infoLink': 'http://books.google.com/books?id=CKhFzQEACAAJ&dq=isbn:0553386794&hl=&source=gbs_api',\n",
       "    'canonicalVolumeLink': 'https://books.google.com/books/about/A_Song_of_Ice_and_Fire.html?hl=&id=CKhFzQEACAAJ'},\n",
       "   'saleInfo': {'country': 'US',\n",
       "    'saleability': 'NOT_FOR_SALE',\n",
       "    'isEbook': False},\n",
       "   'accessInfo': {'country': 'US',\n",
       "    'viewability': 'NO_PAGES',\n",
       "    'embeddable': False,\n",
       "    'publicDomain': False,\n",
       "    'textToSpeechPermission': 'ALLOWED',\n",
       "    'epub': {'isAvailable': False},\n",
       "    'pdf': {'isAvailable': False},\n",
       "    'webReaderLink': 'http://play.google.com/books/reader?id=CKhFzQEACAAJ&hl=&printsec=frontcover&source=gbs_api',\n",
       "    'accessViewStatus': 'NONE',\n",
       "    'quoteSharingAllowed': False},\n",
       "   'searchInfo': {'textSnippet': 'The uneasy peace that exists following the death of Robb Stark is threatened by new plots, intrigues, and alliances that once again will plunge the Seven Kingdoms back into all-out war for control of the Iron Throne.'}},\n",
       "  {'kind': 'books#volume',\n",
       "   'id': 'hXNvadj27ekC',\n",
       "   'etag': 're7oDotgXH0',\n",
       "   'selfLink': 'https://www.googleapis.com/books/v1/volumes/hXNvadj27ekC',\n",
       "   'volumeInfo': {'title': 'A Game of Thrones',\n",
       "    'authors': ['George R. R. Martin'],\n",
       "    'publisher': 'Bantam',\n",
       "    'publishedDate': '2011',\n",
       "    'description': 'The kingdom of the royal Stark family faces its ultimate challenge in the onset of a generation-long winter, the poisonous plots of the rival Lannisters, the emergence of the Neverborn demons, and the arrival of barbarian hordes.',\n",
       "    'industryIdentifiers': [{'type': 'ISBN_13', 'identifier': '9780553386790'},\n",
       "     {'type': 'ISBN_10', 'identifier': '0553386794'}],\n",
       "    'readingModes': {'text': False, 'image': False},\n",
       "    'pageCount': 694,\n",
       "    'printType': 'BOOK',\n",
       "    'categories': ['Fiction'],\n",
       "    'averageRating': 4,\n",
       "    'ratingsCount': 2621,\n",
       "    'maturityRating': 'NOT_MATURE',\n",
       "    'allowAnonLogging': False,\n",
       "    'contentVersion': '0.5.0.0.preview.0',\n",
       "    'panelizationSummary': {'containsEpubBubbles': False,\n",
       "     'containsImageBubbles': False},\n",
       "    'imageLinks': {'smallThumbnail': 'http://books.google.com/books/content?id=hXNvadj27ekC&printsec=frontcover&img=1&zoom=5&edge=curl&source=gbs_api',\n",
       "     'thumbnail': 'http://books.google.com/books/content?id=hXNvadj27ekC&printsec=frontcover&img=1&zoom=1&edge=curl&source=gbs_api'},\n",
       "    'language': 'en',\n",
       "    'previewLink': 'http://books.google.com/books?id=hXNvadj27ekC&printsec=frontcover&dq=isbn:0553386794&hl=&cd=2&source=gbs_api',\n",
       "    'infoLink': 'http://books.google.com/books?id=hXNvadj27ekC&dq=isbn:0553386794&hl=&source=gbs_api',\n",
       "    'canonicalVolumeLink': 'https://books.google.com/books/about/A_Game_of_Thrones.html?hl=&id=hXNvadj27ekC'},\n",
       "   'saleInfo': {'country': 'US',\n",
       "    'saleability': 'NOT_FOR_SALE',\n",
       "    'isEbook': False},\n",
       "   'accessInfo': {'country': 'US',\n",
       "    'viewability': 'PARTIAL',\n",
       "    'embeddable': True,\n",
       "    'publicDomain': False,\n",
       "    'textToSpeechPermission': 'ALLOWED_FOR_ACCESSIBILITY',\n",
       "    'epub': {'isAvailable': False},\n",
       "    'pdf': {'isAvailable': False},\n",
       "    'webReaderLink': 'http://play.google.com/books/reader?id=hXNvadj27ekC&hl=&printsec=frontcover&source=gbs_api',\n",
       "    'accessViewStatus': 'SAMPLE',\n",
       "    'quoteSharingAllowed': False},\n",
       "   'searchInfo': {'textSnippet': 'The kingdom of the royal Stark family faces its ultimate challenge in the onset of a generation-long winter, the poisonous plots of the rival Lannisters, the emergence of the Neverborn demons, and the arrival of barbarian hordes.'}}]}"
      ]
     },
     "execution_count": 4,
     "metadata": {},
     "output_type": "execute_result"
    }
   ],
   "source": [
    "dat = resp.json()\n",
    "dat"
   ]
  },
  {
   "cell_type": "markdown",
   "metadata": {
    "id": "khf6mAY8hPro"
   },
   "source": [
    "There is a lot of information here.  Explore the structure of the JSON information. "
   ]
  },
  {
   "cell_type": "code",
   "execution_count": 5,
   "metadata": {
    "id": "HB6bedUvhJ1h"
   },
   "outputs": [
    {
     "data": {
      "text/plain": [
       "dict_keys(['kind', 'totalItems', 'items'])"
      ]
     },
     "execution_count": 5,
     "metadata": {},
     "output_type": "execute_result"
    }
   ],
   "source": [
    "dat.keys()"
   ]
  },
  {
   "cell_type": "code",
   "execution_count": 6,
   "metadata": {
    "id": "iuxqDdbdhVeC"
   },
   "outputs": [
    {
     "data": {
      "text/plain": [
       "'books#volumes'"
      ]
     },
     "execution_count": 6,
     "metadata": {},
     "output_type": "execute_result"
    }
   ],
   "source": [
    "dat['kind']"
   ]
  },
  {
   "cell_type": "code",
   "execution_count": 7,
   "metadata": {
    "id": "4UIRJWJ-hW-1"
   },
   "outputs": [
    {
     "data": {
      "text/plain": [
       "2"
      ]
     },
     "execution_count": 7,
     "metadata": {},
     "output_type": "execute_result"
    }
   ],
   "source": [
    "dat['totalItems']"
   ]
  },
  {
   "cell_type": "code",
   "execution_count": 8,
   "metadata": {
    "collapsed": true,
    "id": "jSu8VHv2hYdX"
   },
   "outputs": [
    {
     "data": {
      "text/plain": [
       "[{'kind': 'books#volume',\n",
       "  'id': 'CKhFzQEACAAJ',\n",
       "  'etag': 'O/IsRJ1iwwQ',\n",
       "  'selfLink': 'https://www.googleapis.com/books/v1/volumes/CKhFzQEACAAJ',\n",
       "  'volumeInfo': {'title': 'A Song of Ice and Fire',\n",
       "   'authors': ['George R. R. Martin'],\n",
       "   'publishedDate': '2011',\n",
       "   'description': 'The uneasy peace that exists following the death of Robb Stark is threatened by new plots, intrigues, and alliances that once again will plunge the Seven Kingdoms back into all-out war for control of the Iron Throne.',\n",
       "   'industryIdentifiers': [{'type': 'ISBN_10', 'identifier': '0553386794'},\n",
       "    {'type': 'ISBN_13', 'identifier': '9780553386790'}],\n",
       "   'readingModes': {'text': False, 'image': False},\n",
       "   'printType': 'BOOK',\n",
       "   'averageRating': 4,\n",
       "   'ratingsCount': 18,\n",
       "   'maturityRating': 'NOT_MATURE',\n",
       "   'allowAnonLogging': False,\n",
       "   'contentVersion': 'preview-1.0.0',\n",
       "   'panelizationSummary': {'containsEpubBubbles': False,\n",
       "    'containsImageBubbles': False},\n",
       "   'language': 'en',\n",
       "   'previewLink': 'http://books.google.com/books?id=CKhFzQEACAAJ&dq=isbn:0553386794&hl=&cd=1&source=gbs_api',\n",
       "   'infoLink': 'http://books.google.com/books?id=CKhFzQEACAAJ&dq=isbn:0553386794&hl=&source=gbs_api',\n",
       "   'canonicalVolumeLink': 'https://books.google.com/books/about/A_Song_of_Ice_and_Fire.html?hl=&id=CKhFzQEACAAJ'},\n",
       "  'saleInfo': {'country': 'US',\n",
       "   'saleability': 'NOT_FOR_SALE',\n",
       "   'isEbook': False},\n",
       "  'accessInfo': {'country': 'US',\n",
       "   'viewability': 'NO_PAGES',\n",
       "   'embeddable': False,\n",
       "   'publicDomain': False,\n",
       "   'textToSpeechPermission': 'ALLOWED',\n",
       "   'epub': {'isAvailable': False},\n",
       "   'pdf': {'isAvailable': False},\n",
       "   'webReaderLink': 'http://play.google.com/books/reader?id=CKhFzQEACAAJ&hl=&printsec=frontcover&source=gbs_api',\n",
       "   'accessViewStatus': 'NONE',\n",
       "   'quoteSharingAllowed': False},\n",
       "  'searchInfo': {'textSnippet': 'The uneasy peace that exists following the death of Robb Stark is threatened by new plots, intrigues, and alliances that once again will plunge the Seven Kingdoms back into all-out war for control of the Iron Throne.'}},\n",
       " {'kind': 'books#volume',\n",
       "  'id': 'hXNvadj27ekC',\n",
       "  'etag': 're7oDotgXH0',\n",
       "  'selfLink': 'https://www.googleapis.com/books/v1/volumes/hXNvadj27ekC',\n",
       "  'volumeInfo': {'title': 'A Game of Thrones',\n",
       "   'authors': ['George R. R. Martin'],\n",
       "   'publisher': 'Bantam',\n",
       "   'publishedDate': '2011',\n",
       "   'description': 'The kingdom of the royal Stark family faces its ultimate challenge in the onset of a generation-long winter, the poisonous plots of the rival Lannisters, the emergence of the Neverborn demons, and the arrival of barbarian hordes.',\n",
       "   'industryIdentifiers': [{'type': 'ISBN_13', 'identifier': '9780553386790'},\n",
       "    {'type': 'ISBN_10', 'identifier': '0553386794'}],\n",
       "   'readingModes': {'text': False, 'image': False},\n",
       "   'pageCount': 694,\n",
       "   'printType': 'BOOK',\n",
       "   'categories': ['Fiction'],\n",
       "   'averageRating': 4,\n",
       "   'ratingsCount': 2621,\n",
       "   'maturityRating': 'NOT_MATURE',\n",
       "   'allowAnonLogging': False,\n",
       "   'contentVersion': '0.5.0.0.preview.0',\n",
       "   'panelizationSummary': {'containsEpubBubbles': False,\n",
       "    'containsImageBubbles': False},\n",
       "   'imageLinks': {'smallThumbnail': 'http://books.google.com/books/content?id=hXNvadj27ekC&printsec=frontcover&img=1&zoom=5&edge=curl&source=gbs_api',\n",
       "    'thumbnail': 'http://books.google.com/books/content?id=hXNvadj27ekC&printsec=frontcover&img=1&zoom=1&edge=curl&source=gbs_api'},\n",
       "   'language': 'en',\n",
       "   'previewLink': 'http://books.google.com/books?id=hXNvadj27ekC&printsec=frontcover&dq=isbn:0553386794&hl=&cd=2&source=gbs_api',\n",
       "   'infoLink': 'http://books.google.com/books?id=hXNvadj27ekC&dq=isbn:0553386794&hl=&source=gbs_api',\n",
       "   'canonicalVolumeLink': 'https://books.google.com/books/about/A_Game_of_Thrones.html?hl=&id=hXNvadj27ekC'},\n",
       "  'saleInfo': {'country': 'US',\n",
       "   'saleability': 'NOT_FOR_SALE',\n",
       "   'isEbook': False},\n",
       "  'accessInfo': {'country': 'US',\n",
       "   'viewability': 'PARTIAL',\n",
       "   'embeddable': True,\n",
       "   'publicDomain': False,\n",
       "   'textToSpeechPermission': 'ALLOWED_FOR_ACCESSIBILITY',\n",
       "   'epub': {'isAvailable': False},\n",
       "   'pdf': {'isAvailable': False},\n",
       "   'webReaderLink': 'http://play.google.com/books/reader?id=hXNvadj27ekC&hl=&printsec=frontcover&source=gbs_api',\n",
       "   'accessViewStatus': 'SAMPLE',\n",
       "   'quoteSharingAllowed': False},\n",
       "  'searchInfo': {'textSnippet': 'The kingdom of the royal Stark family faces its ultimate challenge in the onset of a generation-long winter, the poisonous plots of the rival Lannisters, the emergence of the Neverborn demons, and the arrival of barbarian hordes.'}}]"
      ]
     },
     "execution_count": 8,
     "metadata": {},
     "output_type": "execute_result"
    }
   ],
   "source": [
    "dat['items']"
   ]
  },
  {
   "cell_type": "markdown",
   "metadata": {
    "id": "EYPYMTzfhe08"
   },
   "source": [
    "`dat['items']` returns a list of items."
   ]
  },
  {
   "cell_type": "code",
   "execution_count": 9,
   "metadata": {
    "id": "51_-yxyYhaGT"
   },
   "outputs": [
    {
     "data": {
      "text/plain": [
       "list"
      ]
     },
     "execution_count": 9,
     "metadata": {},
     "output_type": "execute_result"
    }
   ],
   "source": [
    "type(dat['items'])"
   ]
  },
  {
   "cell_type": "code",
   "execution_count": 20,
   "metadata": {
    "collapsed": true,
    "id": "416pXfskhjfl"
   },
   "outputs": [
    {
     "data": {
      "text/plain": [
       "{'kind': 'books#volume',\n",
       " 'id': 'CKhFzQEACAAJ',\n",
       " 'etag': 'O/IsRJ1iwwQ',\n",
       " 'selfLink': 'https://www.googleapis.com/books/v1/volumes/CKhFzQEACAAJ',\n",
       " 'volumeInfo': {'title': 'A Song of Ice and Fire',\n",
       "  'authors': ['George R. R. Martin'],\n",
       "  'publishedDate': '2011',\n",
       "  'description': 'The uneasy peace that exists following the death of Robb Stark is threatened by new plots, intrigues, and alliances that once again will plunge the Seven Kingdoms back into all-out war for control of the Iron Throne.',\n",
       "  'industryIdentifiers': [{'type': 'ISBN_10', 'identifier': '0553386794'},\n",
       "   {'type': 'ISBN_13', 'identifier': '9780553386790'}],\n",
       "  'readingModes': {'text': False, 'image': False},\n",
       "  'printType': 'BOOK',\n",
       "  'averageRating': 4,\n",
       "  'ratingsCount': 18,\n",
       "  'maturityRating': 'NOT_MATURE',\n",
       "  'allowAnonLogging': False,\n",
       "  'contentVersion': 'preview-1.0.0',\n",
       "  'panelizationSummary': {'containsEpubBubbles': False,\n",
       "   'containsImageBubbles': False},\n",
       "  'language': 'en',\n",
       "  'previewLink': 'http://books.google.com/books?id=CKhFzQEACAAJ&dq=isbn:0553386794&hl=&cd=1&source=gbs_api',\n",
       "  'infoLink': 'http://books.google.com/books?id=CKhFzQEACAAJ&dq=isbn:0553386794&hl=&source=gbs_api',\n",
       "  'canonicalVolumeLink': 'https://books.google.com/books/about/A_Song_of_Ice_and_Fire.html?hl=&id=CKhFzQEACAAJ'},\n",
       " 'saleInfo': {'country': 'US',\n",
       "  'saleability': 'NOT_FOR_SALE',\n",
       "  'isEbook': False},\n",
       " 'accessInfo': {'country': 'US',\n",
       "  'viewability': 'NO_PAGES',\n",
       "  'embeddable': False,\n",
       "  'publicDomain': False,\n",
       "  'textToSpeechPermission': 'ALLOWED',\n",
       "  'epub': {'isAvailable': False},\n",
       "  'pdf': {'isAvailable': False},\n",
       "  'webReaderLink': 'http://play.google.com/books/reader?id=CKhFzQEACAAJ&hl=&printsec=frontcover&source=gbs_api',\n",
       "  'accessViewStatus': 'NONE',\n",
       "  'quoteSharingAllowed': False},\n",
       " 'searchInfo': {'textSnippet': 'The uneasy peace that exists following the death of Robb Stark is threatened by new plots, intrigues, and alliances that once again will plunge the Seven Kingdoms back into all-out war for control of the Iron Throne.'}}"
      ]
     },
     "execution_count": 20,
     "metadata": {},
     "output_type": "execute_result"
    }
   ],
   "source": [
    "# We can look at the first item on the list \n",
    "dat['items'][0]"
   ]
  },
  {
   "cell_type": "code",
   "execution_count": 11,
   "metadata": {
    "id": "QPpLdjOHhnGE"
   },
   "outputs": [
    {
     "data": {
      "text/plain": [
       "dict_keys(['kind', 'id', 'etag', 'selfLink', 'volumeInfo', 'saleInfo', 'accessInfo', 'searchInfo'])"
      ]
     },
     "execution_count": 11,
     "metadata": {},
     "output_type": "execute_result"
    }
   ],
   "source": [
    "'''We can investigate the keys where information is stored for each item'''\n",
    "dat['items'][0].keys()"
   ]
  },
  {
   "cell_type": "code",
   "execution_count": 12,
   "metadata": {
    "id": "RPQ6Wts-hwR2"
   },
   "outputs": [
    {
     "data": {
      "text/plain": [
       "'0553386794'"
      ]
     },
     "execution_count": 12,
     "metadata": {},
     "output_type": "execute_result"
    }
   ],
   "source": [
    "# You can start building pretty long lines of code to access information deep \n",
    "#  in the structure. \n",
    "# Print out the ISBN_10 number for the book \n",
    "dat['items'][0]['volumeInfo']['industryIdentifiers'][0]['identifier']"
   ]
  },
  {
   "cell_type": "markdown",
   "metadata": {
    "id": "wor7tdbyh2Pc"
   },
   "source": [
    "### Exercse 1 \n",
    "\n",
    "Which of the Game of Thrones books is longest?\n",
    "\n",
    "Get information about each book and print out the title and number of pages."
   ]
  },
  {
   "cell_type": "code",
   "execution_count": 2,
   "metadata": {
    "id": "1F7qSQPChzDx"
   },
   "outputs": [],
   "source": [
    "''' Following is the isbn codes for Game of Thrones books. '''\n",
    "\n",
    "isbns = ['0553386794', '0553579908', '9780345543981', '9780553582024', '9780553582017']"
   ]
  },
  {
   "cell_type": "code",
   "execution_count": 17,
   "metadata": {},
   "outputs": [
    {
     "name": "stdout",
     "output_type": "stream",
     "text": [
      "A Game of Thrones has 694 pages.\n",
      "A Song of Ice and Fire has 1009 pages.\n",
      "A Storm of Swords has 1177 pages.\n",
      "A Feast for Crows has 1060 pages.\n",
      "A Dance with Dragons has 1152 pages.\n"
     ]
    }
   ],
   "source": [
    "\"\"\"\n",
    "Iterate for each isbns to finds titles and pages for each item. \n",
    "You can use \"volumeInfo\" to gather the information needed.\n",
    "Print the title + the number of pages\n",
    "\"\"\"\n",
    "### BEGIN SOLUTION\n",
    "url = \"https://www.googleapis.com/books/v1/volumes\"\n",
    "isbns = ['0553386794', '0553579908', '9780345543981', '9780553582024', '9780553582017']\n",
    "books_pages_count={}\n",
    "for i in isbns: \n",
    "    params = {'q': 'isbn:' + i}\n",
    "    data=requests.get(url, params).json()\n",
    "#    print(data)\n",
    "    for j in data['items']:\n",
    "        title=j['volumeInfo']['title']\n",
    "        pages=j['volumeInfo'].get('pageCount',0)\n",
    "        if pages==0:\n",
    "            continue\n",
    "        books_pages_count[title]=pages\n",
    "    \n",
    "        print(title + \" has \" + str(pages) + \" pages.\")     \n",
    "\n",
    "### END SOLUTION "
   ]
  },
  {
   "cell_type": "code",
   "execution_count": 18,
   "metadata": {
    "scrolled": true
   },
   "outputs": [
    {
     "name": "stdout",
     "output_type": "stream",
     "text": [
      "A Storm of Swords is the longest book with 1177 pages.\n"
     ]
    }
   ],
   "source": [
    "#Which of the Game of Thrones books is longest?\n",
    "\n",
    "#print(books_pages_count)\n",
    "for k,v in books_pages_count.items():\n",
    "    if v==max(books_pages_count.values()):\n",
    "        print(k, \"is the longest book with\", v,\"pages.\")\n",
    "\n",
    "#print(max(books_pages_count, key=books_count.get))"
   ]
  },
  {
   "cell_type": "markdown",
   "metadata": {
    "id": "rDWETTmtiG2B"
   },
   "source": [
    "## Example: Government API - Iceland\n",
    "\n",
    "Many cities or countries have begun making data available for developers and researchers. \n",
    "Iceland has created a single [API](http://docs.apis.is/) that has many endpoints including weather data, concerts, bus, earthquakes, bicycle counters, etc. \n",
    "\n",
    "Try out a few different endpoints and gather some data.  *Note, some of the endpoints are not available at this time, you may get a 404 or 500 error*"
   ]
  },
  {
   "cell_type": "markdown",
   "metadata": {
    "id": "VHUHdyI1i5k8"
   },
   "source": [
    "**Earthquake Information**"
   ]
  },
  {
   "cell_type": "code",
   "execution_count": 47,
   "metadata": {
    "id": "5zNVbO4AiEj7"
   },
   "outputs": [],
   "source": [
    "resp = requests.get('https://apis.is/earthquake/is')"
   ]
  },
  {
   "cell_type": "code",
   "execution_count": 48,
   "metadata": {
    "id": "yfTEKBzjiOq_"
   },
   "outputs": [
    {
     "data": {
      "text/plain": [
       "<Response [200]>"
      ]
     },
     "execution_count": 48,
     "metadata": {},
     "output_type": "execute_result"
    }
   ],
   "source": [
    "resp"
   ]
  },
  {
   "cell_type": "code",
   "execution_count": 49,
   "metadata": {
    "collapsed": true,
    "id": "RkVXyYsPiZGU"
   },
   "outputs": [
    {
     "data": {
      "text/plain": [
       "{'results': [{'timestamp': '2017-10-13T12:07:24.000Z',\n",
       "   'latitude': 63.976,\n",
       "   'longitude': -21.949,\n",
       "   'depth': 1.1,\n",
       "   'size': 0.6,\n",
       "   'quality': 58.73,\n",
       "   'humanReadableLocation': '6,1 km SV af Helgafelli'},\n",
       "  {'timestamp': '2017-10-13T09:50:50.000Z',\n",
       "   'latitude': 65.124,\n",
       "   'longitude': -16.288,\n",
       "   'depth': 7.2,\n",
       "   'size': 0.9,\n",
       "   'quality': 78.51,\n",
       "   'humanReadableLocation': '6,1 km NA af Herðubreiðartöglum'},\n",
       "  {'timestamp': '2017-10-13T09:41:09.000Z',\n",
       "   'latitude': 63.945,\n",
       "   'longitude': -21.143,\n",
       "   'depth': 7.4,\n",
       "   'size': 0.2,\n",
       "   'quality': 33.12,\n",
       "   'humanReadableLocation': '6,5 km SSA af Hveragerði'},\n",
       "  {'timestamp': '2017-10-13T09:37:45.000Z',\n",
       "   'latitude': 65.114,\n",
       "   'longitude': -16.3,\n",
       "   'depth': 6.3,\n",
       "   'size': 1.2,\n",
       "   'quality': 90.01,\n",
       "   'humanReadableLocation': '5,0 km NA af Herðubreiðartöglum'},\n",
       "  {'timestamp': '2017-10-13T09:37:21.000Z',\n",
       "   'latitude': 65.113,\n",
       "   'longitude': -16.301,\n",
       "   'depth': 5.9,\n",
       "   'size': 1.4,\n",
       "   'quality': 90.01,\n",
       "   'humanReadableLocation': '4,9 km NA af Herðubreiðartöglum'},\n",
       "  {'timestamp': '2017-10-13T07:51:29.000Z',\n",
       "   'latitude': 65.182,\n",
       "   'longitude': -16.358,\n",
       "   'depth': 5,\n",
       "   'size': 0.7,\n",
       "   'quality': 39.63,\n",
       "   'humanReadableLocation': '1,0 km NNV af Herðubreið'},\n",
       "  {'timestamp': '2017-10-13T07:49:40.000Z',\n",
       "   'latitude': 65.165,\n",
       "   'longitude': -16.354,\n",
       "   'depth': 13.7,\n",
       "   'size': 1.2,\n",
       "   'quality': 90.01,\n",
       "   'humanReadableLocation': '1,0 km SSV af Herðubreið'},\n",
       "  {'timestamp': '2017-10-13T07:22:49.000Z',\n",
       "   'latitude': 64.012,\n",
       "   'longitude': -20.58,\n",
       "   'depth': 6,\n",
       "   'size': 0.3,\n",
       "   'quality': 63.77,\n",
       "   'humanReadableLocation': '4,6 km A af Hestfjalli'},\n",
       "  {'timestamp': '2017-10-13T07:05:44.000Z',\n",
       "   'latitude': 66.534,\n",
       "   'longitude': -18.013,\n",
       "   'depth': 6.3,\n",
       "   'size': 1.2,\n",
       "   'quality': 42.6,\n",
       "   'humanReadableLocation': '0,8 km S af Grímsey'},\n",
       "  {'timestamp': '2017-10-13T06:41:34.000Z',\n",
       "   'latitude': 63.954,\n",
       "   'longitude': -21.255,\n",
       "   'depth': 7.4,\n",
       "   'size': 0.9,\n",
       "   'quality': 57.5,\n",
       "   'humanReadableLocation': '5,4 km SA af Skálafelli á Hellisheiði'},\n",
       "  {'timestamp': '2017-10-13T06:23:10.000Z',\n",
       "   'latitude': 64.659,\n",
       "   'longitude': -17.533,\n",
       "   'depth': 4.3,\n",
       "   'size': 1.2,\n",
       "   'quality': 90.01,\n",
       "   'humanReadableLocation': '2,1 km N af Bárðarbungu'},\n",
       "  {'timestamp': '2017-10-13T05:33:43.000Z',\n",
       "   'latitude': 64.022,\n",
       "   'longitude': -16.613,\n",
       "   'depth': 1.1,\n",
       "   'size': 1.1,\n",
       "   'quality': 48.2,\n",
       "   'humanReadableLocation': '3,4 km ANA af Hvannadalshnjúk'},\n",
       "  {'timestamp': '2017-10-13T05:18:22.000Z',\n",
       "   'latitude': 64.621,\n",
       "   'longitude': -17.348,\n",
       "   'depth': 1.1,\n",
       "   'size': 2.4,\n",
       "   'quality': 90.15,\n",
       "   'humanReadableLocation': '8,8 km ASA af Bárðarbungu'},\n",
       "  {'timestamp': '2017-10-13T04:05:44.000Z',\n",
       "   'latitude': 65.708,\n",
       "   'longitude': -16.833,\n",
       "   'depth': 2.9,\n",
       "   'size': 0.3,\n",
       "   'quality': 38.43,\n",
       "   'humanReadableLocation': '3,6 km V af Kröfluvirkjun'},\n",
       "  {'timestamp': '2017-10-13T03:46:36.000Z',\n",
       "   'latitude': 65.712,\n",
       "   'longitude': -16.817,\n",
       "   'depth': 2.9,\n",
       "   'size': 1.1,\n",
       "   'quality': 90.01,\n",
       "   'humanReadableLocation': '2,8 km V af Kröfluvirkjun'},\n",
       "  {'timestamp': '2017-10-13T02:56:40.000Z',\n",
       "   'latitude': 63.972,\n",
       "   'longitude': -21.56,\n",
       "   'depth': 10.1,\n",
       "   'size': 0.5,\n",
       "   'quality': 64.38,\n",
       "   'humanReadableLocation': '4,5 km ASA af Bláfjallaskála'},\n",
       "  {'timestamp': '2017-10-13T02:12:22.000Z',\n",
       "   'latitude': 65.215,\n",
       "   'longitude': -16.363,\n",
       "   'depth': 10.2,\n",
       "   'size': 1.4,\n",
       "   'quality': 90.02,\n",
       "   'humanReadableLocation': '4,6 km N af Herðubreið'},\n",
       "  {'timestamp': '2017-10-13T01:39:43.000Z',\n",
       "   'latitude': 65.216,\n",
       "   'longitude': -16.349,\n",
       "   'depth': 5.8,\n",
       "   'size': 1.1,\n",
       "   'quality': 90.01,\n",
       "   'humanReadableLocation': '4,6 km N af Herðubreið'},\n",
       "  {'timestamp': '2017-10-13T01:38:32.000Z',\n",
       "   'latitude': 65.215,\n",
       "   'longitude': -16.358,\n",
       "   'depth': 6.3,\n",
       "   'size': 1.1,\n",
       "   'quality': 90.02,\n",
       "   'humanReadableLocation': '4,6 km N af Herðubreið'},\n",
       "  {'timestamp': '2017-10-13T00:22:11.000Z',\n",
       "   'latitude': 64.669,\n",
       "   'longitude': -17.38,\n",
       "   'depth': 1.1,\n",
       "   'size': 2.7,\n",
       "   'quality': 90.14,\n",
       "   'humanReadableLocation': '7,7 km ANA af Bárðarbungu'},\n",
       "  {'timestamp': '2017-10-13T00:01:12.000Z',\n",
       "   'latitude': 64.632,\n",
       "   'longitude': -20.636,\n",
       "   'depth': 1.7,\n",
       "   'size': 1.5,\n",
       "   'quality': 64.89,\n",
       "   'humanReadableLocation': '13,4 km ASA af Húsafelli'},\n",
       "  {'timestamp': '2017-10-12T20:08:36.000Z',\n",
       "   'latitude': 64.673,\n",
       "   'longitude': -17.541,\n",
       "   'depth': 3.1,\n",
       "   'size': 0.9,\n",
       "   'quality': 30.43,\n",
       "   'humanReadableLocation': '3,7 km N af Bárðarbungu'},\n",
       "  {'timestamp': '2017-10-12T20:01:04.000Z',\n",
       "   'latitude': 63.925,\n",
       "   'longitude': -20.163,\n",
       "   'depth': 8.2,\n",
       "   'size': 1.1,\n",
       "   'quality': 90.01,\n",
       "   'humanReadableLocation': '13,7 km SSA af Árnesi'},\n",
       "  {'timestamp': '2017-10-12T17:49:38.000Z',\n",
       "   'latitude': 63.613,\n",
       "   'longitude': -19.308,\n",
       "   'depth': 4.9,\n",
       "   'size': 0.8,\n",
       "   'quality': 30.83,\n",
       "   'humanReadableLocation': '4,1 km SV af Goðabungu'},\n",
       "  {'timestamp': '2017-10-12T14:48:47.000Z',\n",
       "   'latitude': 63.818,\n",
       "   'longitude': -20.659,\n",
       "   'depth': 8.1,\n",
       "   'size': 1.8,\n",
       "   'quality': 49.76,\n",
       "   'humanReadableLocation': '12,6 km S af Þjórsárbrú'},\n",
       "  {'timestamp': '2017-10-12T14:47:07.000Z',\n",
       "   'latitude': 63.672,\n",
       "   'longitude': -19.674,\n",
       "   'depth': 1.3,\n",
       "   'size': 2,\n",
       "   'quality': 45.93,\n",
       "   'humanReadableLocation': '9,5 km V af Básum'},\n",
       "  {'timestamp': '2017-10-12T14:27:55.000Z',\n",
       "   'latitude': 64.354,\n",
       "   'longitude': -20.674,\n",
       "   'depth': 3.3,\n",
       "   'size': 1.2,\n",
       "   'quality': 90.01,\n",
       "   'humanReadableLocation': '6,8 km SSA af Skjaldbreið'},\n",
       "  {'timestamp': '2017-10-12T13:27:11.000Z',\n",
       "   'latitude': 65.229,\n",
       "   'longitude': -16.357,\n",
       "   'depth': 12.8,\n",
       "   'size': 0.5,\n",
       "   'quality': 32.22,\n",
       "   'humanReadableLocation': '6,1 km N af Herðubreið'},\n",
       "  {'timestamp': '2017-10-12T12:48:05.000Z',\n",
       "   'latitude': 65.024,\n",
       "   'longitude': -16.677,\n",
       "   'depth': 5.2,\n",
       "   'size': 1.5,\n",
       "   'quality': 41.19,\n",
       "   'humanReadableLocation': '3,7 km VSV af Dreka'},\n",
       "  {'timestamp': '2017-10-12T12:47:38.000Z',\n",
       "   'latitude': 65.018,\n",
       "   'longitude': -16.672,\n",
       "   'depth': 4.4,\n",
       "   'size': 1,\n",
       "   'quality': 44.51,\n",
       "   'humanReadableLocation': '3,9 km SV af Dreka'},\n",
       "  {'timestamp': '2017-10-12T12:46:20.000Z',\n",
       "   'latitude': 65.036,\n",
       "   'longitude': -16.691,\n",
       "   'depth': 2.3,\n",
       "   'size': 0.6,\n",
       "   'quality': 47.96,\n",
       "   'humanReadableLocation': '4,1 km V af Dreka'},\n",
       "  {'timestamp': '2017-10-12T11:45:39.000Z',\n",
       "   'latitude': 63.513,\n",
       "   'longitude': -19.268,\n",
       "   'depth': 1.1,\n",
       "   'size': 1.3,\n",
       "   'quality': 90.01,\n",
       "   'humanReadableLocation': '11,2 km SV af Hábungu'},\n",
       "  {'timestamp': '2017-10-12T11:40:49.000Z',\n",
       "   'latitude': 63.628,\n",
       "   'longitude': -19.072,\n",
       "   'depth': 1.1,\n",
       "   'size': -0.1,\n",
       "   'quality': 44.18,\n",
       "   'humanReadableLocation': '5,5 km NNA af Hábungu'},\n",
       "  {'timestamp': '2017-10-12T08:25:28.000Z',\n",
       "   'latitude': 63.618,\n",
       "   'longitude': -19.102,\n",
       "   'depth': 0.6,\n",
       "   'size': 0,\n",
       "   'quality': 79.03,\n",
       "   'humanReadableLocation': '4,2 km N af Hábungu'},\n",
       "  {'timestamp': '2017-10-12T08:21:54.000Z',\n",
       "   'latitude': 63.618,\n",
       "   'longitude': -19.094,\n",
       "   'depth': 1.1,\n",
       "   'size': -0.5,\n",
       "   'quality': 48.38,\n",
       "   'humanReadableLocation': '4,2 km N af Hábungu'},\n",
       "  {'timestamp': '2017-10-12T06:38:38.000Z',\n",
       "   'latitude': 65.168,\n",
       "   'longitude': -16.417,\n",
       "   'depth': 7.6,\n",
       "   'size': 1.2,\n",
       "   'quality': 68.29,\n",
       "   'humanReadableLocation': '3,3 km VSV af Herðubreið'},\n",
       "  {'timestamp': '2017-10-12T04:17:38.000Z',\n",
       "   'latitude': 64.033,\n",
       "   'longitude': -21.221,\n",
       "   'depth': 6.4,\n",
       "   'size': 0.4,\n",
       "   'quality': 85.02,\n",
       "   'humanReadableLocation': '4,0 km NNV af Hveragerði'},\n",
       "  {'timestamp': '2017-10-12T04:00:31.000Z',\n",
       "   'latitude': 63.804,\n",
       "   'longitude': -22.793,\n",
       "   'depth': 6.7,\n",
       "   'size': 2.2,\n",
       "   'quality': 90.02,\n",
       "   'humanReadableLocation': '4,3 km V af Reykjanestá'},\n",
       "  {'timestamp': '2017-10-12T03:19:07.000Z',\n",
       "   'latitude': 64.014,\n",
       "   'longitude': -16.603,\n",
       "   'depth': 1.2,\n",
       "   'size': 0.9,\n",
       "   'quality': 43.19,\n",
       "   'humanReadableLocation': '3,8 km A af Hvannadalshnjúk'},\n",
       "  {'timestamp': '2017-10-12T02:05:45.000Z',\n",
       "   'latitude': 63.919,\n",
       "   'longitude': -21.719,\n",
       "   'depth': 2.9,\n",
       "   'size': 1,\n",
       "   'quality': 90.01,\n",
       "   'humanReadableLocation': '8,0 km SSV af Bláfjallaskála'},\n",
       "  {'timestamp': '2017-10-12T01:50:54.000Z',\n",
       "   'latitude': 63.798,\n",
       "   'longitude': -22.793,\n",
       "   'depth': 6.6,\n",
       "   'size': 1.4,\n",
       "   'quality': 90.01,\n",
       "   'humanReadableLocation': '4,3 km V af Reykjanestá'},\n",
       "  {'timestamp': '2017-10-12T01:15:10.000Z',\n",
       "   'latitude': 63.635,\n",
       "   'longitude': -19.142,\n",
       "   'depth': 1.1,\n",
       "   'size': 2,\n",
       "   'quality': 90.01,\n",
       "   'humanReadableLocation': '5,4 km A af Goðabungu'},\n",
       "  {'timestamp': '2017-10-12T00:14:48.000Z',\n",
       "   'latitude': 63.674,\n",
       "   'longitude': -19.125,\n",
       "   'depth': 4.1,\n",
       "   'size': 0.2,\n",
       "   'quality': 34.25,\n",
       "   'humanReadableLocation': '7,2 km ANA af Goðabungu'},\n",
       "  {'timestamp': '2017-10-11T22:40:01.000Z',\n",
       "   'latitude': 66.251,\n",
       "   'longitude': -16.709,\n",
       "   'depth': 4.4,\n",
       "   'size': 1,\n",
       "   'quality': 34.97,\n",
       "   'humanReadableLocation': '12,8 km VSV af Kópaskeri'},\n",
       "  {'timestamp': '2017-10-11T21:09:29.000Z',\n",
       "   'latitude': 66.283,\n",
       "   'longitude': -16.751,\n",
       "   'depth': 5.6,\n",
       "   'size': 1.1,\n",
       "   'quality': 55.62,\n",
       "   'humanReadableLocation': '13,5 km V af Kópaskeri'},\n",
       "  {'timestamp': '2017-10-11T21:08:48.000Z',\n",
       "   'latitude': 66.282,\n",
       "   'longitude': -16.743,\n",
       "   'depth': 4.5,\n",
       "   'size': 1.1,\n",
       "   'quality': 80.86,\n",
       "   'humanReadableLocation': '13,2 km V af Kópaskeri'},\n",
       "  {'timestamp': '2017-10-11T19:21:13.000Z',\n",
       "   'latitude': 66.559,\n",
       "   'longitude': -18.052,\n",
       "   'depth': 9.1,\n",
       "   'size': 2.8,\n",
       "   'quality': 90.03,\n",
       "   'humanReadableLocation': '2,7 km NV af Grímsey'},\n",
       "  {'timestamp': '2017-10-11T18:34:56.000Z',\n",
       "   'latitude': 64.35,\n",
       "   'longitude': -19.173,\n",
       "   'depth': 11.9,\n",
       "   'size': 0.9,\n",
       "   'quality': 53.79,\n",
       "   'humanReadableLocation': '19,9 km N af Sigöldustöð'},\n",
       "  {'timestamp': '2017-10-11T17:28:01.000Z',\n",
       "   'latitude': 64.794,\n",
       "   'longitude': -16.906,\n",
       "   'depth': 2.8,\n",
       "   'size': 0.9,\n",
       "   'quality': 36.64,\n",
       "   'humanReadableLocation': '14,4 km A af Kistufelli'},\n",
       "  {'timestamp': '2017-10-11T14:34:29.000Z',\n",
       "   'latitude': 65.234,\n",
       "   'longitude': -16.33,\n",
       "   'depth': 6.2,\n",
       "   'size': 0.9,\n",
       "   'quality': 42.59,\n",
       "   'humanReadableLocation': '6,6 km NV af Herðubreiðarlindum'},\n",
       "  {'timestamp': '2017-10-11T14:16:22.000Z',\n",
       "   'latitude': 64.662,\n",
       "   'longitude': -17.082,\n",
       "   'depth': 2.3,\n",
       "   'size': 0.7,\n",
       "   'quality': 39.3,\n",
       "   'humanReadableLocation': '14,5 km SSA af Kistufelli'}]}"
      ]
     },
     "execution_count": 49,
     "metadata": {},
     "output_type": "execute_result"
    }
   ],
   "source": [
    "resp.json()"
   ]
  },
  {
   "cell_type": "markdown",
   "metadata": {
    "id": "WBKWLVCiic1d"
   },
   "source": [
    "Under the `results` key there is a list of items with the earthquake information. \n",
    "\n",
    "Let's try to get this list in a DataFrame."
   ]
  },
  {
   "cell_type": "code",
   "execution_count": 50,
   "metadata": {
    "id": "FhLYfy9miaPl"
   },
   "outputs": [
    {
     "data": {
      "text/html": [
       "<div>\n",
       "<style scoped>\n",
       "    .dataframe tbody tr th:only-of-type {\n",
       "        vertical-align: middle;\n",
       "    }\n",
       "\n",
       "    .dataframe tbody tr th {\n",
       "        vertical-align: top;\n",
       "    }\n",
       "\n",
       "    .dataframe thead th {\n",
       "        text-align: right;\n",
       "    }\n",
       "</style>\n",
       "<table border=\"1\" class=\"dataframe\">\n",
       "  <thead>\n",
       "    <tr style=\"text-align: right;\">\n",
       "      <th></th>\n",
       "      <th>timestamp</th>\n",
       "      <th>latitude</th>\n",
       "      <th>longitude</th>\n",
       "      <th>depth</th>\n",
       "      <th>size</th>\n",
       "      <th>quality</th>\n",
       "      <th>humanReadableLocation</th>\n",
       "    </tr>\n",
       "  </thead>\n",
       "  <tbody>\n",
       "    <tr>\n",
       "      <th>0</th>\n",
       "      <td>2017-10-13 12:07:24+00:00</td>\n",
       "      <td>63.976</td>\n",
       "      <td>-21.949</td>\n",
       "      <td>1.1</td>\n",
       "      <td>0.6</td>\n",
       "      <td>58.73</td>\n",
       "      <td>6,1 km SV af Helgafelli</td>\n",
       "    </tr>\n",
       "    <tr>\n",
       "      <th>1</th>\n",
       "      <td>2017-10-13 09:50:50+00:00</td>\n",
       "      <td>65.124</td>\n",
       "      <td>-16.288</td>\n",
       "      <td>7.2</td>\n",
       "      <td>0.9</td>\n",
       "      <td>78.51</td>\n",
       "      <td>6,1 km NA af Herðubreiðartöglum</td>\n",
       "    </tr>\n",
       "    <tr>\n",
       "      <th>2</th>\n",
       "      <td>2017-10-13 09:41:09+00:00</td>\n",
       "      <td>63.945</td>\n",
       "      <td>-21.143</td>\n",
       "      <td>7.4</td>\n",
       "      <td>0.2</td>\n",
       "      <td>33.12</td>\n",
       "      <td>6,5 km SSA af Hveragerði</td>\n",
       "    </tr>\n",
       "    <tr>\n",
       "      <th>3</th>\n",
       "      <td>2017-10-13 09:37:45+00:00</td>\n",
       "      <td>65.114</td>\n",
       "      <td>-16.300</td>\n",
       "      <td>6.3</td>\n",
       "      <td>1.2</td>\n",
       "      <td>90.01</td>\n",
       "      <td>5,0 km NA af Herðubreiðartöglum</td>\n",
       "    </tr>\n",
       "    <tr>\n",
       "      <th>4</th>\n",
       "      <td>2017-10-13 09:37:21+00:00</td>\n",
       "      <td>65.113</td>\n",
       "      <td>-16.301</td>\n",
       "      <td>5.9</td>\n",
       "      <td>1.4</td>\n",
       "      <td>90.01</td>\n",
       "      <td>4,9 km NA af Herðubreiðartöglum</td>\n",
       "    </tr>\n",
       "  </tbody>\n",
       "</table>\n",
       "</div>"
      ],
      "text/plain": [
       "                  timestamp  latitude  longitude  depth  size  quality  \\\n",
       "0 2017-10-13 12:07:24+00:00    63.976    -21.949    1.1   0.6    58.73   \n",
       "1 2017-10-13 09:50:50+00:00    65.124    -16.288    7.2   0.9    78.51   \n",
       "2 2017-10-13 09:41:09+00:00    63.945    -21.143    7.4   0.2    33.12   \n",
       "3 2017-10-13 09:37:45+00:00    65.114    -16.300    6.3   1.2    90.01   \n",
       "4 2017-10-13 09:37:21+00:00    65.113    -16.301    5.9   1.4    90.01   \n",
       "\n",
       "             humanReadableLocation  \n",
       "0          6,1 km SV af Helgafelli  \n",
       "1  6,1 km NA af Herðubreiðartöglum  \n",
       "2         6,5 km SSA af Hveragerði  \n",
       "3  5,0 km NA af Herðubreiðartöglum  \n",
       "4  4,9 km NA af Herðubreiðartöglum  "
      ]
     },
     "execution_count": 50,
     "metadata": {},
     "output_type": "execute_result"
    }
   ],
   "source": [
    "# The JSON was already stored in \"resp\" and we only want the list of results \n",
    "#  under the key \"results\".  Therefore, we can take this information and \n",
    "#  re-serialize the information and let pandas read_json parse in the data \n",
    "eq = pd.read_json(json.dumps(resp.json()['results']))\n",
    "eq.head()"
   ]
  },
  {
   "cell_type": "markdown",
   "metadata": {
    "id": "veePCqEUpWlU"
   },
   "source": [
    "If you get a \"Value Error: protocol not known\", then try wrapping the `json.dumps(resp.json()['results'])` in a method to write to a string using `StringIO` \n",
    "\n",
    "```python\n",
    "from io import StringIO\n",
    "eq = pd.read_json(StringIO(json.dumps(resp.json()['results'])))\n",
    "```"
   ]
  },
  {
   "cell_type": "markdown",
   "metadata": {
    "id": "NLLVNcBMirl0"
   },
   "source": [
    "**Football**\n",
    "\n",
    "We can get information on football events. \n",
    "\n"
   ]
  },
  {
   "cell_type": "code",
   "execution_count": 52,
   "metadata": {
    "id": "gY-1E7L6ioDl"
   },
   "outputs": [
    {
     "data": {
      "text/plain": [
       "<Response [200]>"
      ]
     },
     "execution_count": 52,
     "metadata": {},
     "output_type": "execute_result"
    }
   ],
   "source": [
    "resp = requests.get('https://apis.is/sports/football')\n",
    "resp"
   ]
  },
  {
   "cell_type": "code",
   "execution_count": 53,
   "metadata": {
    "id": "oZpe2kBaivu5"
   },
   "outputs": [
    {
     "data": {
      "text/plain": [
       "{'results': []}"
      ]
     },
     "execution_count": 53,
     "metadata": {},
     "output_type": "execute_result"
    }
   ],
   "source": [
    "resp.json()"
   ]
  },
  {
   "cell_type": "markdown",
   "metadata": {
    "id": "UGwqAkSKixjM"
   },
   "source": [
    "Looks like no information listed for upcoming football matches. "
   ]
  },
  {
   "cell_type": "markdown",
   "metadata": {
    "id": "Ibus5yoZjX0X"
   },
   "source": [
    "**Currency** "
   ]
  },
  {
   "cell_type": "code",
   "execution_count": 54,
   "metadata": {
    "id": "_fcy8oZ2jarO"
   },
   "outputs": [
    {
     "data": {
      "text/plain": [
       "<Response [200]>"
      ]
     },
     "execution_count": 54,
     "metadata": {},
     "output_type": "execute_result"
    }
   ],
   "source": [
    "params = {'source' : 'lb'}\n",
    "resp = requests.get('https://apis.is/currency', params)\n",
    "resp"
   ]
  },
  {
   "cell_type": "code",
   "execution_count": 55,
   "metadata": {
    "collapsed": true,
    "id": "iwRIpk72jaez"
   },
   "outputs": [
    {
     "data": {
      "text/plain": [
       "{'results': [{'shortName': 'ISK',\n",
       "   'longName': 'Íslensk króna',\n",
       "   'value': 1,\n",
       "   'askValue': 1,\n",
       "   'bidValue': 1,\n",
       "   'changeCur': 0,\n",
       "   'changePer': '0.00'},\n",
       "  {'shortName': 'USD',\n",
       "   'longName': 'Bandarískur dalur',\n",
       "   'value': 129.105,\n",
       "   'askValue': 129.56,\n",
       "   'bidValue': 128.65,\n",
       "   'changeCur': 0.061786,\n",
       "   'changePer': '0.00'},\n",
       "  {'shortName': 'GBP',\n",
       "   'longName': 'Sterlingspund',\n",
       "   'value': 175.97,\n",
       "   'askValue': 176.59,\n",
       "   'bidValue': 175.35,\n",
       "   'changeCur': 0.335227,\n",
       "   'changePer': '0.00'},\n",
       "  {'shortName': 'EUR',\n",
       "   'longName': 'Evra',\n",
       "   'value': 149.4,\n",
       "   'askValue': 149.92,\n",
       "   'bidValue': 148.88,\n",
       "   'changeCur': 0.267523,\n",
       "   'changePer': '0.00'},\n",
       "  {'shortName': 'CAD',\n",
       "   'longName': 'Kanadískur dalur',\n",
       "   'value': 103.48,\n",
       "   'askValue': 103.84,\n",
       "   'bidValue': 103.12,\n",
       "   'changeCur': 0.610406,\n",
       "   'changePer': '0.01'},\n",
       "  {'shortName': 'DKK',\n",
       "   'longName': 'Dönsk króna',\n",
       "   'value': 20.0775,\n",
       "   'askValue': 20.148,\n",
       "   'bidValue': 20.007,\n",
       "   'changeCur': 0.273727,\n",
       "   'changePer': '0.01'},\n",
       "  {'shortName': 'NOK',\n",
       "   'longName': 'Norsk króna',\n",
       "   'value': 15.116,\n",
       "   'askValue': 15.169,\n",
       "   'bidValue': 15.063,\n",
       "   'changeCur': 0.670295,\n",
       "   'changePer': '0.04'},\n",
       "  {'shortName': 'SEK',\n",
       "   'longName': 'Sænsk króna',\n",
       "   'value': 14.7705,\n",
       "   'askValue': 14.822,\n",
       "   'bidValue': 14.719,\n",
       "   'changeCur': 0.706618,\n",
       "   'changePer': '0.05'},\n",
       "  {'shortName': 'CHF',\n",
       "   'longName': 'Svissneskur franki',\n",
       "   'value': 139.25,\n",
       "   'askValue': 139.74,\n",
       "   'bidValue': 138.76,\n",
       "   'changeCur': 0.351885,\n",
       "   'changePer': '0.00'},\n",
       "  {'shortName': 'JPY',\n",
       "   'longName': 'Japanskt Yen',\n",
       "   'value': 1.15105,\n",
       "   'askValue': 1.1551,\n",
       "   'bidValue': 1.147,\n",
       "   'changeCur': -0.121055,\n",
       "   'changePer': '-0.11'},\n",
       "  {'shortName': 'XDR',\n",
       "   'longName': 'Gengisvísitala',\n",
       "   'value': 181.865,\n",
       "   'askValue': 182.5,\n",
       "   'bidValue': 181.23,\n",
       "   'changeCur': 0.142669,\n",
       "   'changePer': '0.00'}]}"
      ]
     },
     "execution_count": 55,
     "metadata": {},
     "output_type": "execute_result"
    }
   ],
   "source": [
    "resp.json()"
   ]
  },
  {
   "cell_type": "markdown",
   "metadata": {
    "id": "5DP-mljljBCk"
   },
   "source": [
    "**Weather Observations**"
   ]
  },
  {
   "cell_type": "code",
   "execution_count": 56,
   "metadata": {
    "id": "rKf9qP7XiwzJ"
   },
   "outputs": [
    {
     "data": {
      "text/plain": [
       "<Response [200]>"
      ]
     },
     "execution_count": 56,
     "metadata": {},
     "output_type": "execute_result"
    }
   ],
   "source": [
    "params = {'stations': '1'}\n",
    "resp = requests.get('https://apis.is/weather/observations/en', params)\n",
    "resp"
   ]
  },
  {
   "cell_type": "code",
   "execution_count": 57,
   "metadata": {
    "collapsed": true,
    "id": "d63F_LTyjGs2"
   },
   "outputs": [
    {
     "data": {
      "text/plain": [
       "{'results': [{'name': 'Reykjavík',\n",
       "   'time': '2021-10-10 12:00:00',\n",
       "   'err': '',\n",
       "   'link': 'http://en.vedur.is/weather/observations/areas/reykjavik/#group=100&station=1',\n",
       "   'F': '2',\n",
       "   'FX': '2',\n",
       "   'FG': '4',\n",
       "   'D': 'W',\n",
       "   'T': '6.8',\n",
       "   'W': 'Cloudy',\n",
       "   'V': '40',\n",
       "   'N': '63',\n",
       "   'P': '1021',\n",
       "   'RH': '76',\n",
       "   'SNC': '',\n",
       "   'SND': '',\n",
       "   'SED': '',\n",
       "   'RTE': '',\n",
       "   'TD': '2.8',\n",
       "   'R': '0.2',\n",
       "   'id': '1',\n",
       "   'valid': '1'}]}"
      ]
     },
     "execution_count": 57,
     "metadata": {},
     "output_type": "execute_result"
    }
   ],
   "source": [
    "resp.json()"
   ]
  },
  {
   "cell_type": "markdown",
   "metadata": {
    "id": "G-Rb6dxXjJun"
   },
   "source": [
    "A description on what the codings stand for is available in the API documentation:  \n",
    "http://docs.apis.is/#endpoint-weather"
   ]
  },
  {
   "cell_type": "markdown",
   "metadata": {
    "id": "pKjVfvsJjWNN"
   },
   "source": [
    "### Exercise 2 \n",
    "\n",
    "Look at forecasts for the Reykjavík weather station (station : 1).  Report the mean temperature and mean wind speed for the next 24 forecasts. "
   ]
  },
  {
   "cell_type": "code",
   "execution_count": 58,
   "metadata": {
    "id": "4O8raKBDjH8G"
   },
   "outputs": [
    {
     "name": "stdout",
     "output_type": "stream",
     "text": [
      "Mean Temperature (deg C):  2.4166666666666665\n",
      "Mean Wind Speed (m/s)   :  4.333333333333333\n"
     ]
    }
   ],
   "source": [
    "### BEGIN SOLUTION \n",
    "params = {'stations': [1]}\n",
    "resp = requests.get('http://apis.is/weather/forecasts/en', params)\n",
    "wforecasts = resp.json()\n",
    "wf = pd.read_json(json.dumps(wforecasts['results'][0]['forecast']))\n",
    "atime = wforecasts['results']\n",
    "print(\"Mean Temperature (deg C): \", wf.loc[0:23,'F'].mean())\n",
    "print(\"Mean Wind Speed (m/s)   : \", wf.loc[0:23,'T'].mean())\n",
    "### END SOLUTION"
   ]
  },
  {
   "cell_type": "code",
   "execution_count": 74,
   "metadata": {
    "collapsed": true
   },
   "outputs": [
    {
     "data": {
      "text/html": [
       "<div>\n",
       "<style scoped>\n",
       "    .dataframe tbody tr th:only-of-type {\n",
       "        vertical-align: middle;\n",
       "    }\n",
       "\n",
       "    .dataframe tbody tr th {\n",
       "        vertical-align: top;\n",
       "    }\n",
       "\n",
       "    .dataframe thead th {\n",
       "        text-align: right;\n",
       "    }\n",
       "</style>\n",
       "<table border=\"1\" class=\"dataframe\">\n",
       "  <thead>\n",
       "    <tr style=\"text-align: right;\">\n",
       "      <th></th>\n",
       "      <th>ftime</th>\n",
       "      <th>F</th>\n",
       "      <th>D</th>\n",
       "      <th>T</th>\n",
       "      <th>W</th>\n",
       "      <th>N</th>\n",
       "      <th>TD</th>\n",
       "      <th>R</th>\n",
       "    </tr>\n",
       "  </thead>\n",
       "  <tbody>\n",
       "    <tr>\n",
       "      <th>0</th>\n",
       "      <td>2021-10-10 07:00:00</td>\n",
       "      <td>3</td>\n",
       "      <td>N</td>\n",
       "      <td>4</td>\n",
       "      <td>Clear sky</td>\n",
       "      <td>20</td>\n",
       "      <td>1</td>\n",
       "      <td>0.0</td>\n",
       "    </tr>\n",
       "    <tr>\n",
       "      <th>1</th>\n",
       "      <td>2021-10-10 08:00:00</td>\n",
       "      <td>3</td>\n",
       "      <td>NNW</td>\n",
       "      <td>4</td>\n",
       "      <td>Clear sky</td>\n",
       "      <td>0</td>\n",
       "      <td>1</td>\n",
       "      <td>0.0</td>\n",
       "    </tr>\n",
       "    <tr>\n",
       "      <th>2</th>\n",
       "      <td>2021-10-10 09:00:00</td>\n",
       "      <td>3</td>\n",
       "      <td>N</td>\n",
       "      <td>4</td>\n",
       "      <td>Clear sky</td>\n",
       "      <td>30</td>\n",
       "      <td>1</td>\n",
       "      <td>0.0</td>\n",
       "    </tr>\n",
       "    <tr>\n",
       "      <th>3</th>\n",
       "      <td>2021-10-10 10:00:00</td>\n",
       "      <td>2</td>\n",
       "      <td>NNW</td>\n",
       "      <td>4</td>\n",
       "      <td>Clear sky</td>\n",
       "      <td>10</td>\n",
       "      <td>1</td>\n",
       "      <td>0.0</td>\n",
       "    </tr>\n",
       "    <tr>\n",
       "      <th>4</th>\n",
       "      <td>2021-10-10 11:00:00</td>\n",
       "      <td>2</td>\n",
       "      <td>NNW</td>\n",
       "      <td>5</td>\n",
       "      <td>Partly cloudy</td>\n",
       "      <td>10</td>\n",
       "      <td>1</td>\n",
       "      <td>0.0</td>\n",
       "    </tr>\n",
       "    <tr>\n",
       "      <th>...</th>\n",
       "      <td>...</td>\n",
       "      <td>...</td>\n",
       "      <td>...</td>\n",
       "      <td>...</td>\n",
       "      <td>...</td>\n",
       "      <td>...</td>\n",
       "      <td>...</td>\n",
       "      <td>...</td>\n",
       "    </tr>\n",
       "    <tr>\n",
       "      <th>101</th>\n",
       "      <td>2021-10-19 00:00:00</td>\n",
       "      <td>9</td>\n",
       "      <td>NNE</td>\n",
       "      <td>3</td>\n",
       "      <td>Cloudy</td>\n",
       "      <td>60</td>\n",
       "      <td>-4</td>\n",
       "      <td>0.0</td>\n",
       "    </tr>\n",
       "    <tr>\n",
       "      <th>102</th>\n",
       "      <td>2021-10-19 06:00:00</td>\n",
       "      <td>8</td>\n",
       "      <td>NNE</td>\n",
       "      <td>-1</td>\n",
       "      <td>Cloudy</td>\n",
       "      <td>70</td>\n",
       "      <td>-6</td>\n",
       "      <td>0.0</td>\n",
       "    </tr>\n",
       "    <tr>\n",
       "      <th>103</th>\n",
       "      <td>2021-10-19 12:00:00</td>\n",
       "      <td>10</td>\n",
       "      <td>NNE</td>\n",
       "      <td>-1</td>\n",
       "      <td>Partly cloudy</td>\n",
       "      <td>10</td>\n",
       "      <td>-8</td>\n",
       "      <td>0.0</td>\n",
       "    </tr>\n",
       "    <tr>\n",
       "      <th>104</th>\n",
       "      <td>2021-10-19 18:00:00</td>\n",
       "      <td>9</td>\n",
       "      <td>N</td>\n",
       "      <td>-2</td>\n",
       "      <td>Clear sky</td>\n",
       "      <td>0</td>\n",
       "      <td>-9</td>\n",
       "      <td>0.0</td>\n",
       "    </tr>\n",
       "    <tr>\n",
       "      <th>105</th>\n",
       "      <td>2021-10-20 00:00:00</td>\n",
       "      <td>7</td>\n",
       "      <td>N</td>\n",
       "      <td>-2</td>\n",
       "      <td>Clear sky</td>\n",
       "      <td>0</td>\n",
       "      <td>-9</td>\n",
       "      <td>0.0</td>\n",
       "    </tr>\n",
       "  </tbody>\n",
       "</table>\n",
       "<p>106 rows × 8 columns</p>\n",
       "</div>"
      ],
      "text/plain": [
       "                   ftime   F    D  T              W   N  TD    R\n",
       "0    2021-10-10 07:00:00   3    N  4      Clear sky  20   1  0.0\n",
       "1    2021-10-10 08:00:00   3  NNW  4      Clear sky   0   1  0.0\n",
       "2    2021-10-10 09:00:00   3    N  4      Clear sky  30   1  0.0\n",
       "3    2021-10-10 10:00:00   2  NNW  4      Clear sky  10   1  0.0\n",
       "4    2021-10-10 11:00:00   2  NNW  5  Partly cloudy  10   1  0.0\n",
       "..                   ...  ..  ... ..            ...  ..  ..  ...\n",
       "101  2021-10-19 00:00:00   9  NNE  3         Cloudy  60  -4  0.0\n",
       "102  2021-10-19 06:00:00   8  NNE -1         Cloudy  70  -6  0.0\n",
       "103  2021-10-19 12:00:00  10  NNE -1  Partly cloudy  10  -8  0.0\n",
       "104  2021-10-19 18:00:00   9    N -2      Clear sky   0  -9  0.0\n",
       "105  2021-10-20 00:00:00   7    N -2      Clear sky   0  -9  0.0\n",
       "\n",
       "[106 rows x 8 columns]"
      ]
     },
     "execution_count": 74,
     "metadata": {},
     "output_type": "execute_result"
    }
   ],
   "source": [
    "#wforecasts\n",
    "#wf\n",
    "#atime\n",
    "#wf.loc[0:23,]"
   ]
  },
  {
   "cell_type": "markdown",
   "metadata": {
    "id": "13hGseJjlt31"
   },
   "source": [
    "## Example: iTunes Content \n",
    "\n",
    "Apple has a simple [API](https://affiliate.itunes.apple.com/resources/documentation/itunes-store-web-service-search-api/) for looking up iTunes content."
   ]
  },
  {
   "cell_type": "code",
   "execution_count": 69,
   "metadata": {
    "id": "VCjnZU3YkwS8"
   },
   "outputs": [],
   "source": [
    "# api-endpoint\n",
    "url = 'https://itunes.apple.com/search'\n",
    "\n",
    "# For example let's search for lord of the rings ebooks \n",
    "params = {'term': 'lord+of+the+rings', 'entity': 'ebook' }\n",
    "\n",
    "resp = requests.get(url, params)"
   ]
  },
  {
   "cell_type": "code",
   "execution_count": 70,
   "metadata": {
    "id": "cIizjeeYl2rn"
   },
   "outputs": [
    {
     "data": {
      "text/plain": [
       "<Response [200]>"
      ]
     },
     "execution_count": 70,
     "metadata": {},
     "output_type": "execute_result"
    }
   ],
   "source": [
    "resp"
   ]
  },
  {
   "cell_type": "code",
   "execution_count": 71,
   "metadata": {
    "collapsed": true,
    "id": "ylYcr0tAl3Rm"
   },
   "outputs": [
    {
     "data": {
      "text/plain": [
       "'\\n\\n\\n{\\n \"resultCount\":1,\\n \"results\": [\\n{\"trackCensoredName\":\"Lord of the Rings\", \"fileSizeBytes\":501517, \"formattedPrice\":\"$24.99\", \"trackViewUrl\":\"https://books.apple.com/us/book/lord-of-the-rings/id739542595?uo=4\", \"artworkUrl60\":\"https://is4-ssl.mzstatic.com/image/thumb/Publication/v4/5a/21/24/5a2124b1-b759-fd4c-3d1e-aa4c0c1e6641/9780813138015.jpg/60x60bb.jpg\", \"artworkUrl100\":\"https://is4-ssl.mzstatic.com/image/thumb/Publication/v4/5a/21/24/5a2124b1-b759-fd4c-3d1e-aa4c0c1e6641/9780813138015.jpg/100x100bb.jpg\", \"artistViewUrl\":\"https://books.apple.com/us/artist/jane-chance/482333908?uo=4\", \"trackId\":739542595, \"trackName\":\"Lord of the Rings\", \"releaseDate\":\"2001-10-26T07:00:00Z\", \"genreIds\":[\"10084\", \"38\", \"9031\"], \"artistIds\":[482333908], \"currency\":\"USD\", \\n\"description\":\"\\\\\" With New Line Cinema\\'s production of The Lord of the Rings film trilogy, the popularity of the works of J.R.R. Tolkien is unparalleled. Tolkien\\'s books continue to be bestsellers decades after their original publication. An epic in league with those of Spenser and Malory, The Lord of the Rings trilogy, begun during Hitler\\'s rise to power, celebrates the insignificant individual as hero in the modern world. Jane Chance\\'s critical appraisal of Tolkien\\'s heroic masterwork is the first to explore its \\\\\"mythology of power\\\\\"–that is, how power, politics, and language interact. Chance looks beyond the fantastic, self-contained world of Middle-earth to the twentieth-century parallels presented in the trilogy.\", \"artistId\":482333908, \"artistName\":\"Jane Chance\", \"genres\":[\"Literary Criticism\", \"Books\", \"Fiction & Literature\"], \"price\":24.99, \"kind\":\"ebook\"}]\\n}\\n\\n\\n'"
      ]
     },
     "execution_count": 71,
     "metadata": {},
     "output_type": "execute_result"
    }
   ],
   "source": [
    "resp.text"
   ]
  },
  {
   "cell_type": "markdown",
   "metadata": {
    "id": "aGpkG4ZQl9ve"
   },
   "source": [
    "### Exercise 3 & 4\n",
    "\n",
    "Search for the 50 Harry Potter e-books (search may return fewer). Create a data frame from the responses containing the trackName, track ID, price, and averageUserRating. Sort the results from highest to lowest price."
   ]
  },
  {
   "cell_type": "code",
   "execution_count": 17,
   "metadata": {
    "id": "lLZ8urk1l37R",
    "scrolled": true
   },
   "outputs": [
    {
     "data": {
      "text/plain": [
       "\" For example let's search for harry potter ebooks \""
      ]
     },
     "execution_count": 17,
     "metadata": {},
     "output_type": "execute_result"
    }
   ],
   "source": [
    "url = 'https://itunes.apple.com/search'\n",
    "\n",
    "\"\"\" For example let's search for harry potter ebooks \"\"\"\n",
    "\n",
    "### BEGIN SOLUTION\n",
    "\n",
    "\n",
    "### END SOLUTION"
   ]
  },
  {
   "cell_type": "code",
   "execution_count": null,
   "metadata": {
    "id": "_wqXvkoGmeMh"
   },
   "outputs": [],
   "source": [
    "obj = json.loads(resp.text)\n",
    "# Alternatively \n",
    "obj2 = resp.json()"
   ]
  },
  {
   "cell_type": "markdown",
   "metadata": {
    "id": "G7Kzxb9EmKDz"
   },
   "source": [
    "Try using at least two approaches to create the DataFrame, e.g., \n",
    "\n",
    "* *Method 1* - Construct an empty DataFrame, and append entries in an iterator *method is fine for a few entries but is not scalable* see: https://stackoverflow.com/questions/13784192/creating-an-empty-pandas-dataframe-then-filling-it/41529411#41529411\n",
    "* *Method 2* - Keep track of rows in a list, convert nested lists to DataFrame\n",
    "* *Method 3* - Use pandas `read_json` function to convert JSON to pandas object\n",
    "* *Method 4* - Use `json_normalize` function that normalizes a semi-structured JSON data into a flat table. \n",
    "https://pandas.pydata.org/pandas-docs/stable/reference/api/pandas.io.json.json_normalize.html"
   ]
  },
  {
   "cell_type": "markdown",
   "metadata": {
    "id": "K6ETtROQmL7G"
   },
   "source": [
    "*Method 1* - create an empty DataFrame, loop through JSON entries, and add to DataFrame "
   ]
  },
  {
   "cell_type": "code",
   "execution_count": 15,
   "metadata": {
    "id": "_32Q1zanmF5r"
   },
   "outputs": [
    {
     "data": {
      "text/plain": [
       "(50, 4)"
      ]
     },
     "execution_count": 15,
     "metadata": {},
     "output_type": "execute_result"
    }
   ],
   "source": [
    "### BEGIN SOLUTION\n",
    "'''  In this case the total number of book now are row 50'''\n",
    "\n",
    "url = 'https://itunes.apple.com/search'\n",
    "params = {'term': 'harry+potter', 'entity': 'ebook' }\n",
    "resp = requests.get(url, params)\n",
    "books= resp.json()\n",
    "harry_potter = pd.DataFrame(columns=['trackName','trackId','price','averageUserRating'],\n",
    "                       data=[[i['trackName'],i['trackId'],i['price'],i.get('averageUserRating',0)] for i in books['results']])\n",
    "harry_potter.sort_values(by=['price'], ascending=False, inplace=True)\n",
    "#sorted_books_df=harry_potter.sort_values(by=['price'], ascending=False)\n",
    "#sorted_books_df\n",
    "\n",
    "### END SOLUTION\n",
    "harry_potter.shape"
   ]
  },
  {
   "cell_type": "code",
   "execution_count": 16,
   "metadata": {
    "id": "epQdJyTXmXkE"
   },
   "outputs": [
    {
     "data": {
      "text/html": [
       "<div>\n",
       "<style scoped>\n",
       "    .dataframe tbody tr th:only-of-type {\n",
       "        vertical-align: middle;\n",
       "    }\n",
       "\n",
       "    .dataframe tbody tr th {\n",
       "        vertical-align: top;\n",
       "    }\n",
       "\n",
       "    .dataframe thead th {\n",
       "        text-align: right;\n",
       "    }\n",
       "</style>\n",
       "<table border=\"1\" class=\"dataframe\">\n",
       "  <thead>\n",
       "    <tr style=\"text-align: right;\">\n",
       "      <th></th>\n",
       "      <th>trackName</th>\n",
       "      <th>trackId</th>\n",
       "      <th>price</th>\n",
       "      <th>averageUserRating</th>\n",
       "    </tr>\n",
       "  </thead>\n",
       "  <tbody>\n",
       "    <tr>\n",
       "      <th>10</th>\n",
       "      <td>Harry Potter: The Complete Collection (1-7)</td>\n",
       "      <td>1138308547</td>\n",
       "      <td>62.99</td>\n",
       "      <td>4.5</td>\n",
       "    </tr>\n",
       "    <tr>\n",
       "      <th>32</th>\n",
       "      <td>The Ultimate Harry Potter and Philosophy</td>\n",
       "      <td>392834701</td>\n",
       "      <td>15.99</td>\n",
       "      <td>3.5</td>\n",
       "    </tr>\n",
       "    <tr>\n",
       "      <th>37</th>\n",
       "      <td>Harry Potter: A History of Magic</td>\n",
       "      <td>1377246189</td>\n",
       "      <td>12.99</td>\n",
       "      <td>4.0</td>\n",
       "    </tr>\n",
       "    <tr>\n",
       "      <th>25</th>\n",
       "      <td>Selections from Harry Potter and the Half-Bloo...</td>\n",
       "      <td>438591115</td>\n",
       "      <td>11.99</td>\n",
       "      <td>3.0</td>\n",
       "    </tr>\n",
       "    <tr>\n",
       "      <th>17</th>\n",
       "      <td>Selections from Harry Potter and the Goblet of...</td>\n",
       "      <td>439360054</td>\n",
       "      <td>11.99</td>\n",
       "      <td>3.5</td>\n",
       "    </tr>\n",
       "    <tr>\n",
       "      <th>29</th>\n",
       "      <td>Harry Potter and the Deathly Hallows, Part 2</td>\n",
       "      <td>453544996</td>\n",
       "      <td>11.99</td>\n",
       "      <td>4.0</td>\n",
       "    </tr>\n",
       "    <tr>\n",
       "      <th>12</th>\n",
       "      <td>Harry Potter and the Deathly Hallows, Part 1</td>\n",
       "      <td>431649433</td>\n",
       "      <td>11.99</td>\n",
       "      <td>3.5</td>\n",
       "    </tr>\n",
       "    <tr>\n",
       "      <th>20</th>\n",
       "      <td>Selections from Harry Potter and the Order of ...</td>\n",
       "      <td>439363075</td>\n",
       "      <td>11.99</td>\n",
       "      <td>3.5</td>\n",
       "    </tr>\n",
       "  </tbody>\n",
       "</table>\n",
       "</div>"
      ],
      "text/plain": [
       "                                            trackName     trackId  price  \\\n",
       "10        Harry Potter: The Complete Collection (1-7)  1138308547  62.99   \n",
       "32           The Ultimate Harry Potter and Philosophy   392834701  15.99   \n",
       "37                   Harry Potter: A History of Magic  1377246189  12.99   \n",
       "25  Selections from Harry Potter and the Half-Bloo...   438591115  11.99   \n",
       "17  Selections from Harry Potter and the Goblet of...   439360054  11.99   \n",
       "29       Harry Potter and the Deathly Hallows, Part 2   453544996  11.99   \n",
       "12       Harry Potter and the Deathly Hallows, Part 1   431649433  11.99   \n",
       "20  Selections from Harry Potter and the Order of ...   439363075  11.99   \n",
       "\n",
       "    averageUserRating  \n",
       "10                4.5  \n",
       "32                3.5  \n",
       "37                4.0  \n",
       "25                3.0  \n",
       "17                3.5  \n",
       "29                4.0  \n",
       "12                3.5  \n",
       "20                3.5  "
      ]
     },
     "execution_count": 16,
     "metadata": {},
     "output_type": "execute_result"
    }
   ],
   "source": [
    "harry_potter.head(8)"
   ]
  },
  {
   "cell_type": "markdown",
   "metadata": {
    "id": "KCBof3C1mpT6"
   },
   "source": [
    "*Method 2* - Capture items in a list "
   ]
  },
  {
   "cell_type": "code",
   "execution_count": null,
   "metadata": {
    "id": "GL3ucTntmkvG"
   },
   "outputs": [],
   "source": [
    "### BEGIN SOLUTION\n",
    "\n",
    "\n",
    "\n",
    "\n",
    "harry_potter2 = \n",
    "### END SOLUTION\n",
    "\n",
    "harry_potter2.shape"
   ]
  },
  {
   "cell_type": "code",
   "execution_count": null,
   "metadata": {
    "id": "n-p2M0uZmsgl"
   },
   "outputs": [],
   "source": [
    "harry_potter2.head(8)"
   ]
  },
  {
   "cell_type": "markdown",
   "metadata": {
    "id": "VcuAcJFgmyFn"
   },
   "source": [
    "*Method 3* - Use pandas `read_json` function to convert a JSON string to a pandas object.\n",
    "\n",
    "*May need to use StringIO function*"
   ]
  },
  {
   "cell_type": "code",
   "execution_count": null,
   "metadata": {
    "id": "iUuWC_MgmvEQ"
   },
   "outputs": [],
   "source": [
    "### BEGIN SOLUTION\n",
    "from io import StringIO\n",
    "harry_potter3\n",
    "\n",
    "\n",
    "\n",
    "### END SOLUTION\n",
    "harry_potter3.shape\n",
    "\n"
   ]
  },
  {
   "cell_type": "code",
   "execution_count": null,
   "metadata": {
    "id": "4ZD9cGYGm1Ru"
   },
   "outputs": [],
   "source": [
    "harry_potter3.head(8)"
   ]
  },
  {
   "cell_type": "markdown",
   "metadata": {
    "id": "invfv3dInPCz"
   },
   "source": [
    "*Method 4* - Use `json_normalize` function to read in JSON to a flat table. \n",
    "\n",
    "The `json_normalize` function normalizes a semi-structured JSON data object into a flat table.   \n",
    "https://pandas.pydata.org/pandas-docs/stable/reference/api/pandas.io.json.json_normalize.html"
   ]
  },
  {
   "cell_type": "code",
   "execution_count": 31,
   "metadata": {
    "id": "Yh7EGG2JnN-Q"
   },
   "outputs": [
    {
     "data": {
      "text/plain": [
       "(50, 4)"
      ]
     },
     "execution_count": 31,
     "metadata": {},
     "output_type": "execute_result"
    }
   ],
   "source": [
    "from pandas.io.json import json_normalize\n",
    "### BEGIN SOLUTION\n",
    "\n",
    "url = 'https://itunes.apple.com/search'\n",
    "params = {'term': 'harry+potter', 'entity': 'ebook' }\n",
    "books = requests.get(url, params).json()\n",
    "\n",
    "# Normalizing data\n",
    "harry_potter = pd.json_normalize(books, record_path =['results'])\n",
    "harry_potter4=harry_potter[['trackName','trackId','price','averageUserRating']].copy()\n",
    "\n",
    "harry_potter4.sort_values(by=['price'], ascending=False, inplace=True)\n",
    "\n",
    "\n",
    "### END SOLUTION\n",
    "harry_potter4.shape"
   ]
  },
  {
   "cell_type": "code",
   "execution_count": 30,
   "metadata": {
    "id": "TXezDCaOnYmA"
   },
   "outputs": [
    {
     "data": {
      "text/html": [
       "<div>\n",
       "<style scoped>\n",
       "    .dataframe tbody tr th:only-of-type {\n",
       "        vertical-align: middle;\n",
       "    }\n",
       "\n",
       "    .dataframe tbody tr th {\n",
       "        vertical-align: top;\n",
       "    }\n",
       "\n",
       "    .dataframe thead th {\n",
       "        text-align: right;\n",
       "    }\n",
       "</style>\n",
       "<table border=\"1\" class=\"dataframe\">\n",
       "  <thead>\n",
       "    <tr style=\"text-align: right;\">\n",
       "      <th></th>\n",
       "      <th>trackName</th>\n",
       "      <th>trackId</th>\n",
       "      <th>price</th>\n",
       "      <th>averageUserRating</th>\n",
       "    </tr>\n",
       "  </thead>\n",
       "  <tbody>\n",
       "    <tr>\n",
       "      <th>10</th>\n",
       "      <td>Harry Potter: The Complete Collection (1-7)</td>\n",
       "      <td>1138308547</td>\n",
       "      <td>62.99</td>\n",
       "      <td>4.5</td>\n",
       "    </tr>\n",
       "    <tr>\n",
       "      <th>32</th>\n",
       "      <td>The Ultimate Harry Potter and Philosophy</td>\n",
       "      <td>392834701</td>\n",
       "      <td>15.99</td>\n",
       "      <td>3.5</td>\n",
       "    </tr>\n",
       "    <tr>\n",
       "      <th>37</th>\n",
       "      <td>Harry Potter: A History of Magic</td>\n",
       "      <td>1377246189</td>\n",
       "      <td>12.99</td>\n",
       "      <td>4.0</td>\n",
       "    </tr>\n",
       "    <tr>\n",
       "      <th>25</th>\n",
       "      <td>Selections from Harry Potter and the Half-Bloo...</td>\n",
       "      <td>438591115</td>\n",
       "      <td>11.99</td>\n",
       "      <td>3.0</td>\n",
       "    </tr>\n",
       "    <tr>\n",
       "      <th>17</th>\n",
       "      <td>Selections from Harry Potter and the Goblet of...</td>\n",
       "      <td>439360054</td>\n",
       "      <td>11.99</td>\n",
       "      <td>3.5</td>\n",
       "    </tr>\n",
       "    <tr>\n",
       "      <th>29</th>\n",
       "      <td>Harry Potter and the Deathly Hallows, Part 2</td>\n",
       "      <td>453544996</td>\n",
       "      <td>11.99</td>\n",
       "      <td>4.0</td>\n",
       "    </tr>\n",
       "    <tr>\n",
       "      <th>12</th>\n",
       "      <td>Harry Potter and the Deathly Hallows, Part 1</td>\n",
       "      <td>431649433</td>\n",
       "      <td>11.99</td>\n",
       "      <td>3.5</td>\n",
       "    </tr>\n",
       "    <tr>\n",
       "      <th>20</th>\n",
       "      <td>Selections from Harry Potter and the Order of ...</td>\n",
       "      <td>439363075</td>\n",
       "      <td>11.99</td>\n",
       "      <td>3.5</td>\n",
       "    </tr>\n",
       "  </tbody>\n",
       "</table>\n",
       "</div>"
      ],
      "text/plain": [
       "                                            trackName     trackId  price  \\\n",
       "10        Harry Potter: The Complete Collection (1-7)  1138308547  62.99   \n",
       "32           The Ultimate Harry Potter and Philosophy   392834701  15.99   \n",
       "37                   Harry Potter: A History of Magic  1377246189  12.99   \n",
       "25  Selections from Harry Potter and the Half-Bloo...   438591115  11.99   \n",
       "17  Selections from Harry Potter and the Goblet of...   439360054  11.99   \n",
       "29       Harry Potter and the Deathly Hallows, Part 2   453544996  11.99   \n",
       "12       Harry Potter and the Deathly Hallows, Part 1   431649433  11.99   \n",
       "20  Selections from Harry Potter and the Order of ...   439363075  11.99   \n",
       "\n",
       "    averageUserRating  \n",
       "10                4.5  \n",
       "32                3.5  \n",
       "37                4.0  \n",
       "25                3.0  \n",
       "17                3.5  \n",
       "29                4.0  \n",
       "12                3.5  \n",
       "20                3.5  "
      ]
     },
     "execution_count": 30,
     "metadata": {},
     "output_type": "execute_result"
    }
   ],
   "source": [
    "harry_potter4.head(8)"
   ]
  },
  {
   "cell_type": "markdown",
   "metadata": {
    "id": "3izn33qpnl_J"
   },
   "source": [
    "## Example: TV Shows \n",
    "\n",
    "Here we can use an API on tv show information:  \n",
    "http://api.tvmaze.com/"
   ]
  },
  {
   "cell_type": "code",
   "execution_count": 90,
   "metadata": {
    "id": "Sd9Xi3CxnazF"
   },
   "outputs": [],
   "source": [
    "# We can find the tvmaze id for a show based on the IMDB id. \n",
    "id_got = 'tt0944947'\n",
    "resp = requests.get('http://api.tvmaze.com/lookup/shows?imdb=tt0944947')"
   ]
  },
  {
   "cell_type": "code",
   "execution_count": 91,
   "metadata": {
    "collapsed": true,
    "id": "_yvdU_HZn8vL"
   },
   "outputs": [
    {
     "data": {
      "text/plain": [
       "{'id': 82,\n",
       " 'url': 'https://www.tvmaze.com/shows/82/game-of-thrones',\n",
       " 'name': 'Game of Thrones',\n",
       " 'type': 'Scripted',\n",
       " 'language': 'English',\n",
       " 'genres': ['Drama', 'Adventure', 'Fantasy'],\n",
       " 'status': 'Ended',\n",
       " 'runtime': 60,\n",
       " 'averageRuntime': 61,\n",
       " 'premiered': '2011-04-17',\n",
       " 'ended': '2019-05-19',\n",
       " 'officialSite': 'http://www.hbo.com/game-of-thrones',\n",
       " 'schedule': {'time': '21:00', 'days': ['Sunday']},\n",
       " 'rating': {'average': 9},\n",
       " 'weight': 98,\n",
       " 'network': {'id': 8,\n",
       "  'name': 'HBO',\n",
       "  'country': {'name': 'United States',\n",
       "   'code': 'US',\n",
       "   'timezone': 'America/New_York'}},\n",
       " 'webChannel': {'id': 22,\n",
       "  'name': 'HBO Go',\n",
       "  'country': {'name': 'United States',\n",
       "   'code': 'US',\n",
       "   'timezone': 'America/New_York'}},\n",
       " 'dvdCountry': None,\n",
       " 'externals': {'tvrage': 24493, 'thetvdb': 121361, 'imdb': 'tt0944947'},\n",
       " 'image': {'medium': 'https://static.tvmaze.com/uploads/images/medium_portrait/190/476117.jpg',\n",
       "  'original': 'https://static.tvmaze.com/uploads/images/original_untouched/190/476117.jpg'},\n",
       " 'summary': '<p>Based on the bestselling book series <i>A Song of Ice and Fire</i> by George R.R. Martin, this sprawling new HBO drama is set in a world where summers span decades and winters can last a lifetime. From the scheming south and the savage eastern lands, to the frozen north and ancient Wall that protects the realm from the mysterious darkness beyond, the powerful families of the Seven Kingdoms are locked in a battle for the Iron Throne. This is a story of duplicity and treachery, nobility and honor, conquest and triumph. In the <b>Game of Thrones</b>, you either win or you die.</p>',\n",
       " 'updated': 1631736455,\n",
       " '_links': {'self': {'href': 'https://api.tvmaze.com/shows/82'},\n",
       "  'previousepisode': {'href': 'https://api.tvmaze.com/episodes/1623968'}}}"
      ]
     },
     "execution_count": 91,
     "metadata": {},
     "output_type": "execute_result"
    }
   ],
   "source": [
    "resp.json()"
   ]
  },
  {
   "cell_type": "markdown",
   "metadata": {
    "id": "mwz6o8XxoBH_"
   },
   "source": [
    "We now know the TVmaze ID for Game of Thrones is 82. "
   ]
  },
  {
   "cell_type": "markdown",
   "metadata": {
    "id": "R3FZH1_XoJqg"
   },
   "source": [
    "### Exercise 5 \n",
    "\n",
    "Calculate the min, mean, and max running time for Game of Thrones episodes by season.  \n",
    "\n",
    "Suggestion: \n",
    "\n",
    "* Create DataFrame of episodes information \n",
    "* Consider endpoint - http://www.tvmaze.com/api#show-episode-list\n",
    "* Then use .groupby function to group by season "
   ]
  },
  {
   "cell_type": "code",
   "execution_count": 34,
   "metadata": {
    "id": "A0h5N-R0n-NT",
    "scrolled": true
   },
   "outputs": [
    {
     "name": "stdout",
     "output_type": "stream",
     "text": [
      "Episodes no by seasons:\n",
      " {1: [0, 1, 2, 3, 4, 5, 6, 7, 8, 9], 2: [10, 11, 12, 13, 14, 15, 16, 17, 18, 19], 3: [20, 21, 22, 23, 24, 25, 26, 27, 28, 29], 4: [30, 31, 32, 33, 34, 35, 36, 37, 38, 39], 5: [40, 41, 42, 43, 44, 45, 46, 47, 48, 49], 6: [50, 51, 52, 53, 54, 55, 56, 57, 58, 59], 7: [60, 61, 62, 63, 64, 65, 66], 8: [67, 68, 69, 70, 71, 72]}\n",
      "\n",
      "\n",
      "Min, Mean, and Max running time for Game of Thrones episodes by seasons:-\n",
      "\n",
      "       runtime          \n",
      "           min  mean max\n",
      "season                  \n",
      "1           60  60.0  60\n",
      "2           60  60.0  60\n",
      "3           60  60.0  60\n",
      "4           60  60.0  60\n",
      "5           60  60.0  60\n",
      "6           60  60.9  69\n",
      "7           60  60.0  60\n",
      "8           60  74.5  90\n"
     ]
    }
   ],
   "source": [
    "### BEGIN Solution \n",
    "episode = requests.get('https://api.tvmaze.com/shows/82/episodes').json()\n",
    "seasons = requests.get('https://api.tvmaze.com/shows/82/seasons').json()\n",
    "### END Solution \n",
    "#print(episode)\n",
    "\n",
    "episode_df = pd.DataFrame(columns=['id','name','season','number','runtime','type','airdate','airtime','airstamp','url'],\n",
    "                       data=[[i['id'],i['name'],i['season'],i['number'],i['runtime'],i['type'],i['airdate'],i['airtime'],i['airstamp'],i['url']] for i in episode])\n",
    "\n",
    "print(\"Episodes no by seasons:\\n\",episode_df.groupby('season').groups)\n",
    "\n",
    "print('\\n\\nMin, Mean, and Max running time for Game of Thrones episodes by seasons:-\\n')\n",
    "print(episode_df.groupby('season').agg({'runtime': ['min','mean', 'max']}))"
   ]
  },
  {
   "cell_type": "code",
   "execution_count": 111,
   "metadata": {},
   "outputs": [
    {
     "data": {
      "text/html": [
       "<div>\n",
       "<style scoped>\n",
       "    .dataframe tbody tr th:only-of-type {\n",
       "        vertical-align: middle;\n",
       "    }\n",
       "\n",
       "    .dataframe tbody tr th {\n",
       "        vertical-align: top;\n",
       "    }\n",
       "\n",
       "    .dataframe thead th {\n",
       "        text-align: right;\n",
       "    }\n",
       "</style>\n",
       "<table border=\"1\" class=\"dataframe\">\n",
       "  <thead>\n",
       "    <tr style=\"text-align: right;\">\n",
       "      <th></th>\n",
       "      <th>id</th>\n",
       "      <th>name</th>\n",
       "      <th>season</th>\n",
       "      <th>number</th>\n",
       "      <th>runtime</th>\n",
       "      <th>type</th>\n",
       "      <th>airdate</th>\n",
       "      <th>airtime</th>\n",
       "      <th>airstamp</th>\n",
       "      <th>url</th>\n",
       "    </tr>\n",
       "  </thead>\n",
       "  <tbody>\n",
       "    <tr>\n",
       "      <th>0</th>\n",
       "      <td>4952</td>\n",
       "      <td>Winter is Coming</td>\n",
       "      <td>1</td>\n",
       "      <td>1</td>\n",
       "      <td>60</td>\n",
       "      <td>regular</td>\n",
       "      <td>2011-04-17</td>\n",
       "      <td>21:00</td>\n",
       "      <td>2011-04-18T01:00:00+00:00</td>\n",
       "      <td>https://www.tvmaze.com/episodes/4952/game-of-t...</td>\n",
       "    </tr>\n",
       "    <tr>\n",
       "      <th>1</th>\n",
       "      <td>4953</td>\n",
       "      <td>The Kingsroad</td>\n",
       "      <td>1</td>\n",
       "      <td>2</td>\n",
       "      <td>60</td>\n",
       "      <td>regular</td>\n",
       "      <td>2011-04-24</td>\n",
       "      <td>21:00</td>\n",
       "      <td>2011-04-25T01:00:00+00:00</td>\n",
       "      <td>https://www.tvmaze.com/episodes/4953/game-of-t...</td>\n",
       "    </tr>\n",
       "    <tr>\n",
       "      <th>2</th>\n",
       "      <td>4954</td>\n",
       "      <td>Lord Snow</td>\n",
       "      <td>1</td>\n",
       "      <td>3</td>\n",
       "      <td>60</td>\n",
       "      <td>regular</td>\n",
       "      <td>2011-05-01</td>\n",
       "      <td>21:00</td>\n",
       "      <td>2011-05-02T01:00:00+00:00</td>\n",
       "      <td>https://www.tvmaze.com/episodes/4954/game-of-t...</td>\n",
       "    </tr>\n",
       "    <tr>\n",
       "      <th>3</th>\n",
       "      <td>4955</td>\n",
       "      <td>Cripples, Bastards, and Broken Things</td>\n",
       "      <td>1</td>\n",
       "      <td>4</td>\n",
       "      <td>60</td>\n",
       "      <td>regular</td>\n",
       "      <td>2011-05-08</td>\n",
       "      <td>21:00</td>\n",
       "      <td>2011-05-09T01:00:00+00:00</td>\n",
       "      <td>https://www.tvmaze.com/episodes/4955/game-of-t...</td>\n",
       "    </tr>\n",
       "    <tr>\n",
       "      <th>4</th>\n",
       "      <td>4956</td>\n",
       "      <td>The Wolf and the Lion</td>\n",
       "      <td>1</td>\n",
       "      <td>5</td>\n",
       "      <td>60</td>\n",
       "      <td>regular</td>\n",
       "      <td>2011-05-15</td>\n",
       "      <td>21:00</td>\n",
       "      <td>2011-05-16T01:00:00+00:00</td>\n",
       "      <td>https://www.tvmaze.com/episodes/4956/game-of-t...</td>\n",
       "    </tr>\n",
       "  </tbody>\n",
       "</table>\n",
       "</div>"
      ],
      "text/plain": [
       "     id                                   name  season  number  runtime  \\\n",
       "0  4952                       Winter is Coming       1       1       60   \n",
       "1  4953                          The Kingsroad       1       2       60   \n",
       "2  4954                              Lord Snow       1       3       60   \n",
       "3  4955  Cripples, Bastards, and Broken Things       1       4       60   \n",
       "4  4956                  The Wolf and the Lion       1       5       60   \n",
       "\n",
       "      type     airdate airtime                   airstamp  \\\n",
       "0  regular  2011-04-17   21:00  2011-04-18T01:00:00+00:00   \n",
       "1  regular  2011-04-24   21:00  2011-04-25T01:00:00+00:00   \n",
       "2  regular  2011-05-01   21:00  2011-05-02T01:00:00+00:00   \n",
       "3  regular  2011-05-08   21:00  2011-05-09T01:00:00+00:00   \n",
       "4  regular  2011-05-15   21:00  2011-05-16T01:00:00+00:00   \n",
       "\n",
       "                                                 url  \n",
       "0  https://www.tvmaze.com/episodes/4952/game-of-t...  \n",
       "1  https://www.tvmaze.com/episodes/4953/game-of-t...  \n",
       "2  https://www.tvmaze.com/episodes/4954/game-of-t...  \n",
       "3  https://www.tvmaze.com/episodes/4955/game-of-t...  \n",
       "4  https://www.tvmaze.com/episodes/4956/game-of-t...  "
      ]
     },
     "execution_count": 111,
     "metadata": {},
     "output_type": "execute_result"
    }
   ],
   "source": [
    "episode_df.head()"
   ]
  }
 ],
 "metadata": {
  "colab": {
   "collapsed_sections": [],
   "name": "lab6_week6.ipynb",
   "provenance": [],
   "toc_visible": true
  },
  "kernelspec": {
   "display_name": "Python 3",
   "language": "python",
   "name": "python3"
  },
  "language_info": {
   "codemirror_mode": {
    "name": "ipython",
    "version": 3
   },
   "file_extension": ".py",
   "mimetype": "text/x-python",
   "name": "python",
   "nbconvert_exporter": "python",
   "pygments_lexer": "ipython3",
   "version": "3.8.5"
  },
  "latex_envs": {
   "LaTeX_envs_menu_present": true,
   "autoclose": false,
   "autocomplete": true,
   "bibliofile": "biblio.bib",
   "cite_by": "apalike",
   "current_citInitial": 1,
   "eqLabelWithNumbers": true,
   "eqNumInitial": 1,
   "hotkeys": {
    "equation": "Ctrl-E",
    "itemize": "Ctrl-I"
   },
   "labels_anchors": false,
   "latex_user_defs": false,
   "report_style_numbering": false,
   "user_envs_cfg": false
  },
  "toc": {
   "base_numbering": 1,
   "nav_menu": {},
   "number_sections": true,
   "sideBar": true,
   "skip_h1_title": false,
   "title_cell": "Table of Contents",
   "title_sidebar": "Contents",
   "toc_cell": false,
   "toc_position": {
    "height": "calc(100% - 180px)",
    "left": "10px",
    "top": "150px",
    "width": "275.825px"
   },
   "toc_section_display": true,
   "toc_window_display": true
  }
 },
 "nbformat": 4,
 "nbformat_minor": 1
}
